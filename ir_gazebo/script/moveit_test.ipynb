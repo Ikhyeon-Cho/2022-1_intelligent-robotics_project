{
 "cells": [
  {
   "cell_type": "code",
   "execution_count": 15,
   "metadata": {},
   "outputs": [
    {
     "name": "stdout",
     "output_type": "stream",
     "text": [
      "Packages Loaded.\n"
     ]
    }
   ],
   "source": [
    "import sys\n",
    "import rospy\n",
    "import moveit_commander\n",
    "import tf\n",
    "import numpy\n",
    "import copy\n",
    "import time\n",
    "from geometry_msgs.msg import (\n",
    "    PoseStamped,\n",
    "    Pose,\n",
    "    Point,\n",
    "    Quaternion,\n",
    ")\n",
    "from std_msgs.msg import Header\n",
    "from trajectory_msgs.msg import JointTrajectory\n",
    "from trajectory_msgs.msg import JointTrajectoryPoint\n",
    "\n",
    "print(\"Packages Loaded.\")"
   ]
  },
  {
   "cell_type": "markdown",
   "metadata": {},
   "source": [
    "## Set Moveit Controller"
   ]
  },
  {
   "cell_type": "code",
   "execution_count": 16,
   "metadata": {},
   "outputs": [
    {
     "name": "stdout",
     "output_type": "stream",
     "text": [
      "Moveit control group name:[]\n"
     ]
    }
   ],
   "source": [
    "moveit_commander.roscpp_initialize(sys.argv)\n",
    "robot         = moveit_commander.RobotCommander()\n",
    "group_name=robot.get_group_names()\n",
    "print(\"Moveit control group name:%s\"%group_name)"
   ]
  },
  {
   "cell_type": "code",
   "execution_count": 17,
   "metadata": {},
   "outputs": [
    {
     "name": "stderr",
     "output_type": "stream",
     "text": [
      "\u001b[31m[FATAL] [1651392899.456507907, 20.240000000]: Group 'arm' was not found.\u001b[0m\n"
     ]
    },
    {
     "ename": "RuntimeError",
     "evalue": "Group 'arm' was not found.",
     "output_type": "error",
     "traceback": [
      "\u001b[0;31m---------------------------------------------------------------------------\u001b[0m",
      "\u001b[0;31mRuntimeError\u001b[0m                              Traceback (most recent call last)",
      "\u001b[1;32m/home/sangbeom/catkin_ws/src/2022-1-intelligent-robotics-project/ir_gazebo/script/moveit_test.ipynb Cell 4'\u001b[0m in \u001b[0;36m<cell line: 1>\u001b[0;34m()\u001b[0m\n\u001b[0;32m----> <a href='vscode-notebook-cell:/home/sangbeom/catkin_ws/src/2022-1-intelligent-robotics-project/ir_gazebo/script/moveit_test.ipynb#ch0000003?line=0'>1</a>\u001b[0m arm_group      \u001b[39m=\u001b[39m moveit_commander\u001b[39m.\u001b[39;49mMoveGroupCommander(\u001b[39m\"\u001b[39;49m\u001b[39marm\u001b[39;49m\u001b[39m\"\u001b[39;49m)\n\u001b[1;32m      <a href='vscode-notebook-cell:/home/sangbeom/catkin_ws/src/2022-1-intelligent-robotics-project/ir_gazebo/script/moveit_test.ipynb#ch0000003?line=1'>2</a>\u001b[0m gripper_group \u001b[39m=\u001b[39m moveit_commander\u001b[39m.\u001b[39mMoveGroupCommander(\u001b[39m\"\u001b[39m\u001b[39mgripper\u001b[39m\u001b[39m\"\u001b[39m)\n",
      "File \u001b[0;32m/opt/ros/noetic/lib/python3/dist-packages/moveit_commander/move_group.py:66\u001b[0m, in \u001b[0;36mMoveGroupCommander.__init__\u001b[0;34m(self, name, robot_description, ns, wait_for_servers)\u001b[0m\n\u001b[1;32m     <a href='file:///opt/ros/noetic/lib/python3/dist-packages/moveit_commander/move_group.py?line=61'>62</a>\u001b[0m \u001b[39mdef\u001b[39;00m \u001b[39m__init__\u001b[39m(\n\u001b[1;32m     <a href='file:///opt/ros/noetic/lib/python3/dist-packages/moveit_commander/move_group.py?line=62'>63</a>\u001b[0m     \u001b[39mself\u001b[39m, name, robot_description\u001b[39m=\u001b[39m\u001b[39m\"\u001b[39m\u001b[39mrobot_description\u001b[39m\u001b[39m\"\u001b[39m, ns\u001b[39m=\u001b[39m\u001b[39m\"\u001b[39m\u001b[39m\"\u001b[39m, wait_for_servers\u001b[39m=\u001b[39m\u001b[39m5.0\u001b[39m\n\u001b[1;32m     <a href='file:///opt/ros/noetic/lib/python3/dist-packages/moveit_commander/move_group.py?line=63'>64</a>\u001b[0m ):\n\u001b[1;32m     <a href='file:///opt/ros/noetic/lib/python3/dist-packages/moveit_commander/move_group.py?line=64'>65</a>\u001b[0m     \u001b[39m\"\"\" Specify the group name for which to construct this commander instance. Throws an exception if there is an initialization error. \"\"\"\u001b[39;00m\n\u001b[0;32m---> <a href='file:///opt/ros/noetic/lib/python3/dist-packages/moveit_commander/move_group.py?line=65'>66</a>\u001b[0m     \u001b[39mself\u001b[39m\u001b[39m.\u001b[39m_g \u001b[39m=\u001b[39m _moveit_move_group_interface\u001b[39m.\u001b[39;49mMoveGroupInterface(\n\u001b[1;32m     <a href='file:///opt/ros/noetic/lib/python3/dist-packages/moveit_commander/move_group.py?line=66'>67</a>\u001b[0m         name, robot_description, ns, wait_for_servers\n\u001b[1;32m     <a href='file:///opt/ros/noetic/lib/python3/dist-packages/moveit_commander/move_group.py?line=67'>68</a>\u001b[0m     )\n",
      "\u001b[0;31mRuntimeError\u001b[0m: Group 'arm' was not found."
     ]
    }
   ],
   "source": [
    "arm_group      = moveit_commander.MoveGroupCommander(\"arm\")\n",
    "gripper_group = moveit_commander.MoveGroupCommander(\"gripper\")"
   ]
  },
  {
   "cell_type": "markdown",
   "metadata": {},
   "source": [
    "### Moveit Arm Control"
   ]
  },
  {
   "cell_type": "code",
   "execution_count": 14,
   "metadata": {},
   "outputs": [
    {
     "ename": "NameError",
     "evalue": "name 'arm_group' is not defined",
     "output_type": "error",
     "traceback": [
      "\u001b[0;31m---------------------------------------------------------------------------\u001b[0m",
      "\u001b[0;31mNameError\u001b[0m                                 Traceback (most recent call last)",
      "\u001b[1;32m/home/sangbeom/catkin_ws/src/2022-1-intelligent-robotics-project/ir_gazebo/script/moveit_test.ipynb Cell 6'\u001b[0m in \u001b[0;36m<cell line: 1>\u001b[0;34m()\u001b[0m\n\u001b[0;32m----> <a href='vscode-notebook-cell:/home/sangbeom/catkin_ws/src/2022-1-intelligent-robotics-project/ir_gazebo/script/moveit_test.ipynb#ch0000005?line=0'>1</a>\u001b[0m arm_group\u001b[39m.\u001b[39mset_named_target(\u001b[39m\"\u001b[39m\u001b[39mup\u001b[39m\u001b[39m\"\u001b[39m)\n\u001b[1;32m      <a href='vscode-notebook-cell:/home/sangbeom/catkin_ws/src/2022-1-intelligent-robotics-project/ir_gazebo/script/moveit_test.ipynb#ch0000005?line=1'>2</a>\u001b[0m arm_group\u001b[39m.\u001b[39mgo(wait\u001b[39m=\u001b[39m\u001b[39mTrue\u001b[39;00m)\n\u001b[1;32m      <a href='vscode-notebook-cell:/home/sangbeom/catkin_ws/src/2022-1-intelligent-robotics-project/ir_gazebo/script/moveit_test.ipynb#ch0000005?line=2'>3</a>\u001b[0m \u001b[39mprint\u001b[39m(\u001b[39m\"\u001b[39m\u001b[39mExeucute Up pose.\u001b[39m\u001b[39m\"\u001b[39m)\n",
      "\u001b[0;31mNameError\u001b[0m: name 'arm_group' is not defined"
     ]
    }
   ],
   "source": [
    "arm_group.set_named_target(\"up\")\n",
    "arm_group.go(wait=True)\n",
    "print(\"Exeucute Up pose.\")"
   ]
  },
  {
   "cell_type": "markdown",
   "metadata": {},
   "source": [
    "### Moveit Gripper Control"
   ]
  },
  {
   "cell_type": "code",
   "execution_count": null,
   "metadata": {},
   "outputs": [],
   "source": [
    "gripper_group.set_named_target(\"open\")\n",
    "gripper_group.go(wait=True)\n",
    "print(\"Exeucute Open pose.\")"
   ]
  },
  {
   "cell_type": "markdown",
   "metadata": {},
   "source": [
    ")"
   ]
  }
 ],
 "metadata": {
  "interpreter": {
   "hash": "e7370f93d1d0cde622a1f8e1c04877d8463912d04d973331ad4851f04de6915a"
  },
  "kernelspec": {
   "display_name": "Python 3.8.10 64-bit",
   "language": "python",
   "name": "python3"
  },
  "language_info": {
   "codemirror_mode": {
    "name": "ipython",
    "version": 3
   },
   "file_extension": ".py",
   "mimetype": "text/x-python",
   "name": "python",
   "nbconvert_exporter": "python",
   "pygments_lexer": "ipython3",
   "version": "3.8.10"
  },
  "orig_nbformat": 4
 },
 "nbformat": 4,
 "nbformat_minor": 2
}
