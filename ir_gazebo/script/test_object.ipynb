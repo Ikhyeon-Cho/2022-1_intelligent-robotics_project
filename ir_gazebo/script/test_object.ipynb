{
 "cells": [
  {
   "cell_type": "code",
   "execution_count": 13,
   "metadata": {},
   "outputs": [
    {
     "name": "stdout",
     "output_type": "stream",
     "text": [
      "Packages Loaded.\n"
     ]
    }
   ],
   "source": [
    "import sys\n",
    "import rospy\n",
    "import rospkg\n",
    "import moveit_commander\n",
    "import tf\n",
    "import os \n",
    "import numpy as np \n",
    "import copy\n",
    "import time\n",
    "\n",
    "from geometry_msgs.msg import (\n",
    "    PoseStamped,\n",
    "    Pose,\n",
    "    Point,\n",
    "    Quaternion,\n",
    ")\n",
    "from gazebo_msgs.srv import (SpawnModel,DeleteModel)\n",
    "from geometry_msgs.msg import (PoseStamped,Pose,Point,Quaternion)\n",
    "\n",
    "def spawn_gazebo_model(model_path, model_name, model_pose, reference_frame=\"world\"):\n",
    "  \"\"\"\n",
    "  Spawn model in gazebo\n",
    "  \"\"\"\n",
    "  model_xml = ''\n",
    "  with open(model_path, \"r\") as model_file:\n",
    "    model_xml = model_file.read().replace('\\n', '')\n",
    "  rospy.wait_for_service('/gazebo/spawn_sdf_model')\n",
    "  try:\n",
    "    spawn_sdf = rospy.ServiceProxy('/gazebo/spawn_sdf_model', SpawnModel)\n",
    "    resp_sdf= spawn_sdf(model_name, model_xml, \"/\", model_pose, reference_frame)\n",
    "  except rospy.ServiceException:\n",
    "    rospy.logerr(\"Spawn SDF service call failed\")\n",
    "\n",
    "def delete_gazebo_model(models):\n",
    "  \"\"\"\n",
    "  Delete model in gazebo\n",
    "  \"\"\"\n",
    "  try:\n",
    "    delete_model = rospy.ServiceProxy('/gazebo/delete_model', DeleteModel)\n",
    "    for a_model in models:\n",
    "      resp_delete = delete_model(a_model)\n",
    "  except rospy.ServiceException:\n",
    "    rospy.loginfo(\"Delete Model service call failed\")\n",
    "\n",
    "print(\"Packages Loaded.\")\n",
    "rospy.init_node(\"object_spawn\")"
   ]
  },
  {
   "cell_type": "markdown",
   "metadata": {},
   "source": [
    "### Set Moveit "
   ]
  },
  {
   "cell_type": "code",
   "execution_count": 14,
   "metadata": {},
   "outputs": [],
   "source": [
    "moveit_commander.roscpp_initialize(sys.argv)\n",
    "robot         = moveit_commander.RobotCommander()\n",
    "scene = moveit_commander.PlanningSceneInterface()"
   ]
  },
  {
   "cell_type": "markdown",
   "metadata": {},
   "source": [
    "### Set Parameters "
   ]
  },
  {
   "cell_type": "code",
   "execution_count": 15,
   "metadata": {},
   "outputs": [],
   "source": [
    "# Parameters \n",
    "table_height    = 0.79\n",
    "# Cylinder \n",
    "cylinder_height = 0.2\n",
    "cylinder_radius = 0.03\n",
    "cylinder_pos_x  = 0.97 \n",
    "cylinder_pos_y  = 0 \n",
    "cylinder_pos_z  = table_height+cylinder_height/2.\n",
    "# Box \n",
    "box_height      = 0.06\n",
    "box_x           = 0.06 \n",
    "box_y           = 0.06\n",
    "box_pos_x       = 0.97 \n",
    "box_pos_y       = 0 \n",
    "box_pos_z       = table_height+box_height/2."
   ]
  },
  {
   "cell_type": "code",
   "execution_count": 16,
   "metadata": {},
   "outputs": [],
   "source": [
    "\"\"\" RViz \"\"\"\n",
    "# Cylinder \n",
    "cylinder_name = \"cylinder\"\n",
    "cylinder_pos  = PoseStamped()\n",
    "cylinder_pos.header.frame_id    = robot.get_planning_frame()\n",
    "cylinder_pos.pose.position.x    = cylinder_pos_x\n",
    "cylinder_pos.pose.position.y    = cylinder_pos_y\n",
    "cylinder_pos.pose.position.z    = cylinder_pos_z\n",
    "cylinder_pos.pose.orientation.w = 1.0  \n",
    "# Box \n",
    "box_name = \"box\"\n",
    "box_pos  = PoseStamped()\n",
    "box_pos.header.frame_id    = robot.get_planning_frame()\n",
    "box_pos.pose.position.x    = box_pos_x\n",
    "box_pos.pose.position.y    = box_pos_y\n",
    "box_pos.pose.position.z    = box_pos_z\n",
    "box_pos.pose.orientation.w = 1.0  \n",
    "\n",
    "\"\"\" GAZEBO \"\"\"\n",
    "rospack = rospkg.RosPack()\n",
    "pack_path = rospack.get_path('ir_gazebo')\n",
    "object_path = pack_path+os.sep+'urdf'+os.sep+'object'+os.sep+'cylinder.sdf'\n",
    "object_name = cylinder_name\n",
    "object_pose = Pose(position=Point(x=cylinder_pos_x , y=cylinder_pos_y, z=cylinder_pos_z))\n"
   ]
  },
  {
   "cell_type": "markdown",
   "metadata": {},
   "source": [
    "### Spawn Object "
   ]
  },
  {
   "cell_type": "code",
   "execution_count": 19,
   "metadata": {},
   "outputs": [],
   "source": [
    "# If you want to add a cylinder on RViz \n",
    "scene.add_cylinder(name=cylinder_name, height=cylinder_height, radius=cylinder_radius, pose=cylinder_pos)\n",
    "\n",
    "# If you want to add a box on RViz \n",
    "# scene.add_box(box_name, box_pos, (box_x, box_y, box_height))\n",
    "\n",
    "# If you want to add a cylinder on GAZEBO \n",
    "spawn_gazebo_model(object_path, object_name, object_pose)"
   ]
  },
  {
   "cell_type": "markdown",
   "metadata": {},
   "source": [
    "### Delete Object "
   ]
  },
  {
   "cell_type": "code",
   "execution_count": 18,
   "metadata": {},
   "outputs": [
    {
     "name": "stdout",
     "output_type": "stream",
     "text": [
      "Delete cylinder\n"
     ]
    }
   ],
   "source": [
    "delete_gazebo_model([object_name])\n",
    "scene.remove_world_object(object_name)\n",
    "# scene.remove_world_object(\"box\")\n",
    "print(\"Delete %s\"%object_name)"
   ]
  },
  {
   "cell_type": "code",
   "execution_count": null,
   "metadata": {},
   "outputs": [],
   "source": []
  }
 ],
 "metadata": {
  "interpreter": {
   "hash": "e7370f93d1d0cde622a1f8e1c04877d8463912d04d973331ad4851f04de6915a"
  },
  "kernelspec": {
   "display_name": "Python 3.8.10 64-bit",
   "language": "python",
   "name": "python3"
  },
  "language_info": {
   "codemirror_mode": {
    "name": "ipython",
    "version": 3
   },
   "file_extension": ".py",
   "mimetype": "text/x-python",
   "name": "python",
   "nbconvert_exporter": "python",
   "pygments_lexer": "ipython3",
   "version": "3.8.10"
  },
  "orig_nbformat": 4
 },
 "nbformat": 4,
 "nbformat_minor": 2
}
