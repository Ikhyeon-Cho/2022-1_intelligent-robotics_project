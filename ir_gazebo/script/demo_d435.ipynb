{
 "cells": [
  {
   "cell_type": "markdown",
   "metadata": {},
   "source": [
    "### Import Libraries"
   ]
  },
  {
   "cell_type": "code",
   "execution_count": 1,
   "metadata": {},
   "outputs": [
    {
     "name": "stdout",
     "output_type": "stream",
     "text": [
      "Packages Loaded\n"
     ]
    }
   ],
   "source": [
    "import rospy\n",
    "import rospkg\n",
    "from std_msgs.msg import Header\n",
    "from trajectory_msgs.msg import JointTrajectory\n",
    "from trajectory_msgs.msg import JointTrajectoryPoint\n",
    "from sensor_msgs.msg import PointCloud2, Image\n",
    "import sensor_msgs.point_cloud2 as pc2\n",
    "import moveit_commander\n",
    "import tf\n",
    "from tf.transformations import *\n",
    "import pcl\n",
    "from pcl_helper import *\n",
    "import sys\n",
    "import numpy as np \n",
    "import os \n",
    "from geometry_msgs.msg import (\n",
    "    PoseStamped,\n",
    "    Pose,\n",
    "    Point,\n",
    "    Quaternion,\n",
    ")\n",
    "from gazebo_msgs.srv import (SpawnModel)\n",
    "\n",
    "print(\"Packages Loaded\")"
   ]
  },
  {
   "cell_type": "markdown",
   "metadata": {},
   "source": [
    "### Functions for Clustering"
   ]
  },
  {
   "cell_type": "code",
   "execution_count": 2,
   "metadata": {},
   "outputs": [
    {
     "name": "stdout",
     "output_type": "stream",
     "text": [
      "Done\n"
     ]
    }
   ],
   "source": [
    "# 복셀화(Down sampling)\n",
    "def do_voxel_grid_downssampling(pcl_data,leaf_size):\n",
    "    vox = pcl_data.make_voxel_grid_filter()\n",
    "    vox.set_leaf_size(leaf_size, leaf_size, leaf_size)\n",
    "    return  vox.filter()\n",
    "\n",
    "# 노이즈 제거\n",
    "def do_statistical_outlier_filtering(pcl_data,mean_k,tresh):\n",
    "    outlier_filter = pcl_data.make_statistical_outlier_filter()\n",
    "    outlier_filter.set_mean_k(mean_k)\n",
    "    outlier_filter.set_std_dev_mul_thresh(tresh)\n",
    "    return outlier_filter.filter()\n",
    "\n",
    "# 바닥 제거 함수(random sample consensus 이용)\n",
    "def do_ransac_plane_segmentation(pcl_data,pcl_sac_model_plane,pcl_sac_ransac,max_distance):\n",
    "    '''\n",
    "    Create the segmentation object\n",
    "    :param pcl_data: point could data subscriber\n",
    "    :param pcl_sac_model_plane: use to determine plane models, pcl.SACMODEL_PLANE\n",
    "    :param pcl_sac_ransac: RANdom SAmple Consensus, pcl.SAC_RANSAC\n",
    "    :param max_distance: Max distance for apoint to be considered fitting the model, 0.01\n",
    "    :return: segmentation object\n",
    "    '''\n",
    "    seg = pcl_data.make_segmenter()\n",
    "    seg.set_model_type(pcl_sac_model_plane)\n",
    "    seg.set_method_type(pcl_sac_ransac)\n",
    "    seg.set_distance_threshold(max_distance)\n",
    "\n",
    "    # outliner 추출\n",
    "    inliners, _ = seg.segment()\n",
    "    inliner_object = pcl_data.extract(inliners,negative=False)\n",
    "    outliner_object = pcl_data.extract(inliners,negative=True)\n",
    "    return outliner_object\n",
    "\n",
    "# clustering 함수\n",
    "def euclid_cluster(cloud):\n",
    "    white_cloud = XYZRGB_to_XYZ(cloud)\n",
    "    tree = white_cloud.make_kdtree()\n",
    "    ec = white_cloud.make_EuclideanClusterExtraction()\n",
    "    ec.set_ClusterTolerance(0.015)\n",
    "    ec.set_MinClusterSize(20)\n",
    "    ec.set_MaxClusterSize(3000)\n",
    "    ec.set_SearchMethod(tree)\n",
    "    cluster_indices = ec.Extract()\n",
    "    return cluster_indices, white_cloud\n",
    "\n",
    "def cluster_mask(cluster_indices, white_cloud):\n",
    "    cluster_color = get_color_list(len(cluster_indices))\n",
    "    color_cluster_point_list = []\n",
    "    for j, indices in enumerate(cluster_indices):\n",
    "        for i, indice in enumerate(indices):\n",
    "            color_cluster_point_list.append([\n",
    "                                            white_cloud[indice][0],\n",
    "                                            white_cloud[indice][1],\n",
    "                                            white_cloud[indice][2],\n",
    "                                            rgb_to_float( cluster_color[j] )\n",
    "                                           ])\n",
    "    cluster_cloud = pcl.PointCloud_PointXYZRGB()\n",
    "    cluster_cloud.from_list(color_cluster_point_list)\n",
    "    return cluster_cloud\n",
    "\n",
    "# list를 pcd data로 바꾸는 함수\n",
    "def change_list_to_pcd(lista):\n",
    "    cloud = pcl.PointCloud_PointXYZRGB()\n",
    "    cloud.from_list(lista)\n",
    "    return cloud\n",
    "\n",
    "# pcd data를 받아 중심점을 return하는 함수\n",
    "def get_middle_point(pcd):\n",
    "    x_total = 0\n",
    "    y_total = 0\n",
    "    z_total = []\n",
    "    pcd_numpy = pcd.to_array()\n",
    "    for i in range(len(pcd_numpy)):\n",
    "        x_total += pcd_numpy[i,0]\n",
    "        y_total += pcd_numpy[i,1]\n",
    "        z_total.append(pcd_numpy[i,2])\n",
    "    x = x_total / len(pcd_numpy)\n",
    "    y = y_total / len(pcd_numpy)\n",
    "    z = (max(z_total)+(min(z_total)))/2\n",
    "    return x,y,z\n",
    "\n",
    "# object 여러개를 리스트로 나누기\n",
    "def get_obj_point(cluster_indices,white_cloud):\n",
    "    obj_points = []\n",
    "    for j,indices in enumerate(cluster_indices):\n",
    "        point_list = []\n",
    "        for k,indice in enumerate(indices):\n",
    "            point_list.append([\n",
    "                white_cloud[indice][0],\n",
    "                white_cloud[indice][1],\n",
    "                white_cloud[indice][2],\n",
    "                1.5\n",
    "            ])\n",
    "        obj_points.append(point_list)\n",
    "    return obj_points\n",
    "\n",
    "# 관심 영역 설정\n",
    "def do_passthrough(pcl_data,filter_axis,axis_min,axis_max):\n",
    "    '''\n",
    "    Create a PassThrough  object and assigns a filter axis and range.\n",
    "    :param pcl_data: point could data subscriber\n",
    "    :param filter_axis: filter axis\n",
    "    :param axis_min: Minimum  axis to the passthrough filter object\n",
    "    :param axis_max: Maximum axis to the passthrough filter object\n",
    "    :return: passthrough on point cloud\n",
    "    '''\n",
    "    passthrough = pcl_data.make_passthrough_filter()\n",
    "    passthrough.set_filter_field_name(filter_axis)\n",
    "    passthrough.set_filter_limits(axis_min, axis_max)\n",
    "    return passthrough.filter()\n",
    "\n",
    "# 좌표 변환 함수\n",
    "def tf_matrix():\n",
    "    listener = tf.TransformListener() \n",
    "    listener.waitForTransform('world','camera_depth_optical_frame',rospy.Time(),rospy.Duration(2))\n",
    "    (t,q) = listener.lookupTransform('world','camera_depth_optical_frame', rospy.Time(0))\n",
    "    t_matrix = tf.transformations.translation_matrix(t)\n",
    "    r_matrix = tf.transformations.quaternion_matrix(q)\n",
    "    return np.dot(t_matrix,r_matrix)\n",
    "\n",
    "def change_frame(matt, points):\n",
    "    transpose = points[:,0:3]\n",
    "    ones = np.ones((len(points),1))\n",
    "    transpose = np.concatenate((transpose,ones),axis=1)\n",
    "    transpose = transpose.T\n",
    "    transpose_after = np.dot(matt,transpose)\n",
    "    transpose_after = transpose_after.T\n",
    "    transpose_after_after = transpose_after[:,0:3]\n",
    "    rgb = points[:,3].reshape(len(points),1)\n",
    "    finalmat = np.concatenate((transpose_after_after,rgb),axis=1)\n",
    "    return finalmat\n",
    "\n",
    "# numpy에서 pcd data로 바꾸는 함수\n",
    "def numpy_to_pcd(nump):\n",
    "    nump = nump.astype(np.float32)\n",
    "    pcd = pcl.PointCloud_PointXYZI()\n",
    "    pcd.from_array(nump)\n",
    "    return pcd\n",
    "\n",
    "# callback 함수\n",
    "def callback(input_ros_msg):\n",
    "    cloud = ros_to_pcl(input_ros_msg)\n",
    "    cloud = do_voxel_grid_downssampling(cloud,0.005)\n",
    "    delete_floor = do_ransac_plane_segmentation(cloud,pcl.SACMODEL_PLANE,pcl.SAC_RANSAC,0.01)\n",
    "    delete_desk = do_ransac_plane_segmentation(delete_floor,pcl.SACMODEL_PLANE,pcl.SAC_RANSAC,0.01)\n",
    "\n",
    "    delete_desk_1 = delete_desk.to_array()\n",
    "    tf_mat = tf_matrix()\n",
    "    delete_desk_points = change_frame(tf_mat,delete_desk_1)\n",
    "    delete_desk_2 = numpy_to_pcd(delete_desk_points)\n",
    "    delete_desk_2_filter = do_passthrough(delete_desk_2,'z',0.8,1.1)\n",
    "    cluster_indices, white_cloud = euclid_cluster(delete_desk_2_filter)\n",
    "\n",
    "    # cluster된 물체들 전부\n",
    "    get_color_list.color_list = []\n",
    "    final = cluster_mask(cluster_indices, white_cloud)\n",
    "    final = pcl_to_ros(final)\n",
    "    obj_points = get_obj_point(cluster_indices,white_cloud)\n",
    "    middle_point_lists = []\n",
    "    for i in range(len(obj_points)):\n",
    "        obj_group_cloud = change_list_to_pcd(obj_points[i])\n",
    "        x,y,z = get_middle_point(obj_group_cloud)\n",
    "        middle_point = [x,y,z]\n",
    "        middle_point_lists.append(middle_point)\n",
    "        \n",
    "    pub.publish(final)\n",
    "    print(\"Number of Objects : {}\".format(len(cluster_indices)))\n",
    "    print(\"Middle point lists : \",middle_point_lists)\n",
    "\n",
    "    return middle_point_lists\n",
    "\n",
    "print(\"Done\")"
   ]
  },
  {
   "cell_type": "markdown",
   "metadata": {},
   "source": [
    "### Functions for Moving"
   ]
  },
  {
   "cell_type": "code",
   "execution_count": 3,
   "metadata": {},
   "outputs": [],
   "source": [
    "rospy.init_node('publish_joints')\n",
    "arm_joint_names = ['shoulder_pan_joint','shoulder_lift_joint','elbow_joint', \n",
    "                'wrist_1_joint', 'wrist_2_joint','wrist_3_joint']\n",
    "gripper_joint_names = ['gripper_finger1_joint']\n",
    "rate    = rospy.Rate(1)\n",
    "arm_pub = rospy.Publisher('/arm_controller/command', JointTrajectory, queue_size=10)\n",
    "gripper_pub = rospy.Publisher('/gripper_controller/command', JointTrajectory, queue_size=10)\n",
    "\n",
    "def move_gripper(joint):\n",
    "    global gripper_joint_names, gripper_pub\n",
    "    \"\"\" Open- Close Gripper \"\"\"\n",
    "    gripper        = JointTrajectory()\n",
    "    gripper_value  = JointTrajectoryPoint()\n",
    "    gripper.header = Header()\n",
    "    gripper.joint_names = gripper_joint_names\n",
    "    gripper_value.positions = [joint] # Open pose\n",
    "    gripper_value.time_from_start = rospy.Duration.from_sec(0.01)\n",
    "    gripper.points.append(gripper_value)\n",
    "    gripper_pub.publish(gripper)\n",
    "\n",
    "\n",
    "def move_arm(joint_seq): \n",
    "    Flag = True \n",
    "    global arm_joint_names, rate, arm_pub\n",
    "    while Flag:\n",
    "        \"\"\" Move to pick an object \"\"\"\n",
    "        for idx, joints in enumerate(joint_seq):\n",
    "            joint = joints.reshape([6,])\n",
    "            arm = JointTrajectory()\n",
    "            arm_value = JointTrajectoryPoint()\n",
    "            arm.header = Header()\n",
    "            arm.joint_names= arm_joint_names\n",
    "            arm_value.positions       = joint\n",
    "            arm_value.time_from_start = rospy.Duration.from_sec(0.01)\n",
    "            arm.points.append(arm_value)\n",
    "            arm_pub.publish(arm)\n",
    "            rate.sleep()    \n",
    "            if idx+1 == len(joint_seq): \n",
    "                Flag = False "
   ]
  },
  {
   "cell_type": "code",
   "execution_count": 4,
   "metadata": {},
   "outputs": [
    {
     "name": "stdout",
     "output_type": "stream",
     "text": [
      "Publish trajectories\n"
     ]
    }
   ],
   "source": [
    "\"\"\" Test \"\"\"\n",
    "joint_seq  = np.array([[2.0, -0.6596, 1.3364, 0.0350, 0, 0]]) \n",
    "move_arm(joint_seq)\n",
    "move_gripper(0.9) # Open \n",
    "\n",
    "print(\"Publish trajectories\")"
   ]
  },
  {
   "cell_type": "markdown",
   "metadata": {},
   "source": [
    "### Functions for Spawning object"
   ]
  },
  {
   "cell_type": "code",
   "execution_count": 5,
   "metadata": {},
   "outputs": [
    {
     "name": "stdout",
     "output_type": "stream",
     "text": [
      "\u001b[0m[ INFO] [1653545557.474144932]: Loading robot model 'rilab_robot'...\u001b[0m\n",
      "\u001b[0m[ INFO] [1653545557.475018028]: No root/virtual joint specified in SRDF. Assuming fixed joint\u001b[0m\n"
     ]
    }
   ],
   "source": [
    "def spawn_gazebo_model(model_path, model_name, model_pose, reference_frame=\"world\"):\n",
    "  \"\"\"\n",
    "  Spawn model in gazebo\n",
    "  \"\"\"\n",
    "  model_xml = ''\n",
    "  with open(model_path, \"r\") as model_file:\n",
    "    model_xml = model_file.read().replace('\\n', '')\n",
    "  rospy.wait_for_service('/gazebo/spawn_sdf_model')\n",
    "  try:\n",
    "    spawn_sdf = rospy.ServiceProxy('/gazebo/spawn_sdf_model', SpawnModel)\n",
    "    resp_sdf= spawn_sdf(model_name, model_xml, \"/\", model_pose, reference_frame)\n",
    "  except rospy.ServiceException:\n",
    "    rospy.logerr(\"Spawn SDF service call failed\")\n",
    "\n",
    "moveit_commander.roscpp_initialize(sys.argv)\n",
    "robot = moveit_commander.RobotCommander()\n",
    "scene = moveit_commander.PlanningSceneInterface()\n",
    "\n",
    "# Parameters \n",
    "table_height    = 0.79\n",
    "# Cylinder \n",
    "cylinder_height = 0.2\n",
    "cylinder_radius = 0.03\n",
    "cylinder_pos_x  = 0.97 \n",
    "cylinder_pos_y  = 0 \n",
    "cylinder_pos_z  = table_height+cylinder_height/2.\n",
    "# Box \n",
    "box_height      = 0.06\n",
    "box_x           = 0.06 \n",
    "box_y           = 0.06\n",
    "box_pos_x       = 0.97 \n",
    "box_pos_y       = 0 \n",
    "box_pos_z       = table_height+box_height/2.\n",
    "\n",
    "\"\"\" RViz \"\"\"\n",
    "# Cylinder \n",
    "cylinder_name = \"cylinder\"\n",
    "cylinder_pos  = PoseStamped()\n",
    "cylinder_pos.header.frame_id    = robot.get_planning_frame()\n",
    "cylinder_pos.pose.position.x    = cylinder_pos_x\n",
    "cylinder_pos.pose.position.y    = cylinder_pos_y\n",
    "cylinder_pos.pose.position.z    = cylinder_pos_z\n",
    "cylinder_pos.pose.orientation.w = 1.0  \n",
    "# Box \n",
    "box_name = \"box\"\n",
    "box_pos  = PoseStamped()\n",
    "box_pos.header.frame_id    = robot.get_planning_frame()\n",
    "box_pos.pose.position.x    = box_pos_x\n",
    "box_pos.pose.position.y    = box_pos_y\n",
    "box_pos.pose.position.z    = box_pos_z\n",
    "box_pos.pose.orientation.w = 1.0  \n",
    "\n",
    "\"\"\" GAZEBO \"\"\"\n",
    "rospack = rospkg.RosPack()\n",
    "pack_path = rospack.get_path('ir_gazebo')\n",
    "object_path = pack_path+os.sep+'urdf'+os.sep+'object'+os.sep+'cylinder.sdf'\n",
    "object_name = cylinder_name\n",
    "object_pose = Pose(position=Point(x=cylinder_pos_x , y=cylinder_pos_y, z=cylinder_pos_z))\n",
    "object_name2 = 'obj2'\n",
    "object_pose2 = Pose(position=Point(x=cylinder_pos_x+0.1 , y=cylinder_pos_y - 0.2, z=cylinder_pos_z))"
   ]
  },
  {
   "cell_type": "code",
   "execution_count": 6,
   "metadata": {},
   "outputs": [],
   "source": [
    "spawn_gazebo_model(object_path, object_name, object_pose)\n",
    "spawn_gazebo_model(object_path, object_name2, object_pose2)"
   ]
  },
  {
   "cell_type": "markdown",
   "metadata": {},
   "source": [
    "### Use Callback Function to get Middle Point Lists"
   ]
  },
  {
   "cell_type": "code",
   "execution_count": 7,
   "metadata": {},
   "outputs": [],
   "source": [
    "import message_filters\n",
    "\n",
    "class REALSENSE435():\n",
    "    def __init__(self):    \n",
    "        # Create member variables \n",
    "        self.objects = None \n",
    "        self.table = None \n",
    "        self.clusters = None \n",
    "\n",
    "        self.tick = 0\n",
    "        self.point_cloud = None \n",
    "        self.image = None \n",
    "\n",
    "        self.clusters_publisher = rospy.Publisher(\"/pcl_cluster\", PointCloud2, queue_size = 1)\n",
    "        self.point_cloud_sub = message_filters.Subscriber('/camera/depth/color/points', PointCloud2)\n",
    "        self.image_sub = message_filters.Subscriber('/camera/depth/image_raw', Image)\n",
    "        self.ts = message_filters.TimeSynchronizer([self.point_cloud_sub, self.image_sub], 10)\n",
    "        self.ts.registerCallback(self.callback)\n",
    "        \n",
    "        tic_temp = 0\n",
    "        while self.tick<2:\n",
    "            time.sleep(1e-3)\n",
    "            tic_temp = tic_temp + 1\n",
    "            if tic_temp > 5000:\n",
    "                print (\"[ERROR] CHECK REALSENSE435\")\n",
    "                break\n",
    "\n",
    "    def callback(self, point_cloud_msg, image_msg):\n",
    "        self.tick = self.tick+1\n",
    "        self.depth_image = image_msg \n",
    "        self.point_cloud = point_cloud_msg \n",
    "\n",
    "    def cluster_publisher(self, clusters_msg):\n",
    "        self.clusters_publisher.publish(clusters_msg)"
   ]
  },
  {
   "cell_type": "code",
   "execution_count": 8,
   "metadata": {},
   "outputs": [
    {
     "name": "stdout",
     "output_type": "stream",
     "text": [
      "Number of Objects : 2\n",
      "Middle point lists :  [[0.9522529944710667, 0.0006983283026910624, 0.8842407464981079], [1.052270383406908, -0.1963987345253671, 0.8838028907775879]]\n"
     ]
    }
   ],
   "source": [
    "realsense = REALSENSE435()\n",
    "pub = rospy.Publisher(\"/camera/depth/color/points_new\",PointCloud2,queue_size=1)\n",
    "middle_point_lists = callback(realsense.point_cloud)"
   ]
  },
  {
   "cell_type": "code",
   "execution_count": null,
   "metadata": {},
   "outputs": [],
   "source": [
    "# If you want to check clustering in RViz\n",
    "# rospy.Subscriber('/camera/depth/color/points', PointCloud2, callback)\n",
    "# pub = rospy.Publisher(\"/camera/depth/color/points_new\",PointCloud2,queue_size=1)\n",
    "# rospy.spin()"
   ]
  },
  {
   "cell_type": "markdown",
   "metadata": {},
   "source": [
    "### Move to the target object"
   ]
  },
  {
   "cell_type": "code",
   "execution_count": 9,
   "metadata": {},
   "outputs": [
    {
     "name": "stdout",
     "output_type": "stream",
     "text": [
      "\u001b[0m[ INFO] [1653545572.335472495, 1123.045000000]: Ready to take commands for planning group arm.\u001b[0m\n",
      "\u001b[0m[ INFO] [1653545572.809412384, 1123.505000000]: Ready to take commands for planning group gripper.\u001b[0m\n"
     ]
    }
   ],
   "source": [
    "# Get group_commander from MoveGroupCommander\n",
    "group_name = robot.get_group_names()\n",
    "move_group=moveit_commander.MoveGroupCommander(group_name[0])\n",
    "move_gripper=moveit_commander.MoveGroupCommander(group_name[1])"
   ]
  },
  {
   "cell_type": "code",
   "execution_count": 10,
   "metadata": {},
   "outputs": [],
   "source": [
    "# Move using target_pose\n",
    "pose_goal_1 = Pose()  \n",
    "pose_goal_1.position.x = 0.6\n",
    "pose_goal_1.position.y = 0.0\n",
    "pose_goal_1.position.z = middle_point_lists[0][2] + 0.05\n",
    "\n",
    "quat = quaternion_from_euler(0, math.pi, -math.pi/2)\n",
    "pose_goal_1.orientation.x = quat[0]\n",
    "pose_goal_1.orientation.y = quat[1]\n",
    "pose_goal_1.orientation.z = quat[2]\n",
    "pose_goal_1.orientation.w = quat[3]\n",
    "\n",
    "move_group.set_pose_target(pose_goal_1)\n",
    "plan = move_group.go(wait=True)"
   ]
  },
  {
   "cell_type": "code",
   "execution_count": 11,
   "metadata": {},
   "outputs": [],
   "source": [
    "pose_goal_2 = Pose()  \n",
    "pose_goal_2.position.x = middle_point_lists[0][0] - 0.28\n",
    "pose_goal_2.position.y = middle_point_lists[0][1]\n",
    "pose_goal_2.position.z = middle_point_lists[0][2] + 0.05\n",
    "\n",
    "quat = quaternion_from_euler(0, -math.pi, -math.pi/2)\n",
    "pose_goal_2.orientation.x = quat[0]\n",
    "pose_goal_2.orientation.y = quat[1]\n",
    "pose_goal_2.orientation.z = quat[2]\n",
    "pose_goal_2.orientation.w = quat[3]\n",
    "\n",
    "move_group.set_pose_target(pose_goal_2)\n",
    "plan = move_group.go(wait=True)"
   ]
  }
 ],
 "metadata": {
  "interpreter": {
   "hash": "e7370f93d1d0cde622a1f8e1c04877d8463912d04d973331ad4851f04de6915a"
  },
  "kernelspec": {
   "display_name": "Python 3.8.10 64-bit",
   "language": "python",
   "name": "python3"
  },
  "language_info": {
   "codemirror_mode": {
    "name": "ipython",
    "version": 3
   },
   "file_extension": ".py",
   "mimetype": "text/x-python",
   "name": "python",
   "nbconvert_exporter": "python",
   "pygments_lexer": "ipython3",
   "version": "3.8.10"
  },
  "orig_nbformat": 4
 },
 "nbformat": 4,
 "nbformat_minor": 2
}
