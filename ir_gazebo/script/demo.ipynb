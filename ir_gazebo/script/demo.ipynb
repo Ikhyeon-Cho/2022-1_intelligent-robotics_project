{
 "cells": [
  {
   "cell_type": "code",
   "execution_count": 1,
   "metadata": {},
   "outputs": [
    {
     "name": "stdout",
     "output_type": "stream",
     "text": [
      "Packages Loaded.\n"
     ]
    }
   ],
   "source": [
    "import sys\n",
    "import rospy\n",
    "import rospkg\n",
    "import moveit_commander\n",
    "import tf\n",
    "import os \n",
    "import numpy as np \n",
    "import copy\n",
    "import time\n",
    "\n",
    "from geometry_msgs.msg import (\n",
    "    PoseStamped,\n",
    "    Pose,\n",
    "    Point,\n",
    "    Quaternion,\n",
    ")\n",
    "from gazebo_msgs.srv import (SpawnModel,DeleteModel)\n",
    "from std_msgs.msg import Header\n",
    "from geometry_msgs.msg import (PoseStamped,Pose,Point,Quaternion)\n",
    "from trajectory_msgs.msg import JointTrajectory\n",
    "from trajectory_msgs.msg import JointTrajectoryPoint\n",
    "\n",
    "print(\"Packages Loaded.\")\n",
    "rospy.init_node(\"object_spawn\")"
   ]
  },
  {
   "cell_type": "markdown",
   "metadata": {},
   "source": [
    "### Set Moveit "
   ]
  },
  {
   "cell_type": "code",
   "execution_count": 2,
   "metadata": {},
   "outputs": [
    {
     "name": "stdout",
     "output_type": "stream",
     "text": [
      "\u001b[0m[ INFO] [1651471740.006674248]: Loading robot model 'rilab_robot'...\u001b[0m\n",
      "\u001b[0m[ INFO] [1651471740.007151785]: No root/virtual joint specified in SRDF. Assuming fixed joint\u001b[0m\n",
      "Moveit control group name:['arm', 'gripper']\n",
      "\u001b[0m[ INFO] [1651471741.251511874, 37.160000000]: Ready to take commands for planning group arm.\u001b[0m\n",
      "\u001b[0m[ INFO] [1651471741.723870425, 37.632000000]: Ready to take commands for planning group gripper.\u001b[0m\n"
     ]
    }
   ],
   "source": [
    "moveit_commander.roscpp_initialize(sys.argv)\n",
    "robot         = moveit_commander.RobotCommander()\n",
    "scene         = moveit_commander.PlanningSceneInterface()\n",
    "group_name    = robot.get_group_names()\n",
    "print(\"Moveit control group name:%s\"%group_name)\n",
    "arm_group     = moveit_commander.MoveGroupCommander(\"arm\")\n",
    "gripper_group = moveit_commander.MoveGroupCommander(\"gripper\")"
   ]
  },
  {
   "cell_type": "markdown",
   "metadata": {},
   "source": [
    "## Spawn-Delete Object "
   ]
  },
  {
   "cell_type": "code",
   "execution_count": null,
   "metadata": {},
   "outputs": [],
   "source": [
    "def spawn_gazebo_model(model_path, model_name, model_pose, reference_frame=\"world\"):\n",
    "  \"\"\"\n",
    "  Spawn model in gazebo\n",
    "  \"\"\"\n",
    "  model_xml = ''\n",
    "  with open(model_path, \"r\") as model_file:\n",
    "    model_xml = model_file.read().replace('\\n', '')\n",
    "  rospy.wait_for_service('/gazebo/spawn_sdf_model')\n",
    "  try:\n",
    "    spawn_sdf = rospy.ServiceProxy('/gazebo/spawn_sdf_model', SpawnModel)\n",
    "    resp_sdf= spawn_sdf(model_name, model_xml, \"/\", model_pose, reference_frame)\n",
    "  except rospy.ServiceException:\n",
    "    rospy.logerr(\"Spawn SDF service call failed\")\n",
    "\n",
    "def delete_gazebo_model(models):\n",
    "  \"\"\"\n",
    "  Delete model in gazebo\n",
    "  \"\"\"\n",
    "  try:\n",
    "    delete_model = rospy.ServiceProxy('/gazebo/delete_model', DeleteModel)\n",
    "    for a_model in models:\n",
    "      resp_delete = delete_model(a_model)\n",
    "  except rospy.ServiceException:\n",
    "    rospy.loginfo(\"Delete Model service call failed\")\n"
   ]
  },
  {
   "cell_type": "markdown",
   "metadata": {},
   "source": [
    "### Set Parameters "
   ]
  },
  {
   "cell_type": "code",
   "execution_count": 3,
   "metadata": {},
   "outputs": [],
   "source": [
    "# Parameters \n",
    "table_height    = 0.79\n",
    "# Cylinder \n",
    "cylinder_height = 0.2\n",
    "cylinder_radius = 0.03\n",
    "cylinder_pos_x  = 0.97 \n",
    "cylinder_pos_y  = 0 \n",
    "cylinder_pos_z  = table_height+cylinder_height/2.\n",
    "# Box \n",
    "box_height      = 0.06\n",
    "box_x           = 0.06 \n",
    "box_y           = 0.06\n",
    "box_pos_x       = 0.97 \n",
    "box_pos_y       = 0 \n",
    "box_pos_z       = table_height+box_height/2."
   ]
  },
  {
   "cell_type": "code",
   "execution_count": 4,
   "metadata": {},
   "outputs": [],
   "source": [
    "\"\"\" RViz \"\"\"\n",
    "# Cylinder \n",
    "cylinder_name = \"cylinder\"\n",
    "cylinder_pos  = PoseStamped()\n",
    "cylinder_pos.header.frame_id    = robot.get_planning_frame()\n",
    "cylinder_pos.pose.position.x    = cylinder_pos_x\n",
    "cylinder_pos.pose.position.y    = cylinder_pos_y\n",
    "cylinder_pos.pose.position.z    = cylinder_pos_z\n",
    "cylinder_pos.pose.orientation.w = 1.0  \n",
    "# Box \n",
    "box_name = \"box\"\n",
    "box_pos  = PoseStamped()\n",
    "box_pos.header.frame_id    = robot.get_planning_frame()\n",
    "box_pos.pose.position.x    = box_pos_x\n",
    "box_pos.pose.position.y    = box_pos_y\n",
    "box_pos.pose.position.z    = box_pos_z\n",
    "box_pos.pose.orientation.w = 1.0  \n",
    "\n",
    "\"\"\" GAZEBO \"\"\"\n",
    "rospack = rospkg.RosPack()\n",
    "pack_path = rospack.get_path('ir_gazebo')\n",
    "object_path = pack_path+os.sep+'urdf'+os.sep+'object'+os.sep+'cylinder.sdf'\n",
    "object_name = cylinder_name\n",
    "object_pose = Pose(position=Point(x=cylinder_pos_x , y=cylinder_pos_y, z=cylinder_pos_z))\n"
   ]
  },
  {
   "cell_type": "markdown",
   "metadata": {},
   "source": [
    "## Trajectory "
   ]
  },
  {
   "cell_type": "code",
   "execution_count": 5,
   "metadata": {},
   "outputs": [],
   "source": [
    "arm_joint_names = ['shoulder_pan_joint','shoulder_lift_joint','elbow_joint', \n",
    "                'wrist_1_joint', 'wrist_2_joint','wrist_3_joint']\n",
    "gripper_joint_names = ['gripper_finger1_joint']\n",
    "rate    = rospy.Rate(50)\n",
    "arm_pub = rospy.Publisher('/arm_controller/command', JointTrajectory, queue_size=10)\n",
    "gripper_pub = rospy.Publisher('/gripper_controller/command', JointTrajectory, queue_size=10)\n",
    "\n",
    "\"\"\" Load joint values \"\"\"\n",
    "# load_data       = np.load(\"data/sample_traj.npz\")\n",
    "load_data_pick  = np.load(\"data/sample_traj_pick.npz\")\n",
    "load_data_place = np.load(\"data/sample_traj_place.npz\")\n",
    "load_data_home  = np.load(\"data/sample_traj_home.npz\")\n",
    "\n",
    "joints_seq_pick  = load_data_pick[\"joint\"]\n",
    "joints_seq_place = load_data_place[\"joint\"]\n",
    "joints_seq_home  = load_data_home[\"joint\"]\n",
    "\n",
    "touch_links = [\"gripper_finger1_finger_link\", \"gripper_finger2_finger_link\"]\n",
    "\n",
    "def move_gripper(joint):\n",
    "    global gripper_joint_names, gripper_pub\n",
    "    \"\"\" Open- Close Gripper \"\"\"\n",
    "    gripper        = JointTrajectory()\n",
    "    gripper_value  = JointTrajectoryPoint()\n",
    "    gripper.header = Header()\n",
    "    gripper.joint_names = gripper_joint_names\n",
    "    gripper_value.positions = [joint] # Open pose\n",
    "    gripper_value.time_from_start = rospy.Duration.from_sec(0.01)\n",
    "    gripper.points.append(gripper_value)\n",
    "    gripper_pub.publish(gripper)\n",
    "\n",
    "\n",
    "def move_arm(joint_seq): \n",
    "    Flag = True \n",
    "    global arm_joint_names, rate, arm_pub\n",
    "    while Flag:\n",
    "        \"\"\" Move to pick an object \"\"\"\n",
    "        for idx, joints in enumerate(joint_seq):\n",
    "            joint = joints.reshape([6,])\n",
    "            arm = JointTrajectory()\n",
    "            arm_value = JointTrajectoryPoint()\n",
    "            arm.header = Header()\n",
    "            arm.joint_names= arm_joint_names\n",
    "            arm_value.positions       = joint\n",
    "            arm_value.time_from_start = rospy.Duration.from_sec(0.01)\n",
    "            arm.points.append(arm_value)\n",
    "            arm_pub.publish(arm)\n",
    "            rate.sleep()    \n",
    "            if idx+1 == len(joint_seq): \n",
    "                Flag = False "
   ]
  },
  {
   "cell_type": "markdown",
   "metadata": {},
   "source": [
    "### Start"
   ]
  },
  {
   "cell_type": "code",
   "execution_count": 6,
   "metadata": {},
   "outputs": [],
   "source": [
    "# Move to start pose \n",
    "move_arm(joints_seq_home)\n",
    "# If you want to add a cylinder on RViz \n",
    "scene.add_cylinder(name=object_name, height=cylinder_height, radius=cylinder_radius, pose=cylinder_pos)\n",
    "# If you want to add a cylinder on GAZEBO \n",
    "spawn_gazebo_model(object_path, object_name, object_pose)"
   ]
  },
  {
   "cell_type": "markdown",
   "metadata": {},
   "source": [
    "### Plan"
   ]
  },
  {
   "cell_type": "code",
   "execution_count": 8,
   "metadata": {},
   "outputs": [],
   "source": [
    "# Move to pick an object \n",
    "move_arm(joints_seq_pick)\n",
    "time.sleep(1)\n",
    "# Open gripper \n",
    "move_gripper(0.8)\n",
    "# Attach the object \n",
    "gripper_group.attach_object(object_name, \"gripper_base_link\", touch_links=touch_links)\n",
    "time.sleep(1)\n",
    "# Close gripper \n",
    "move_gripper(0.3)\n",
    "# Move to place the object \n",
    "move_arm(joints_seq_place)\n",
    "# Open gripper \n",
    "move_gripper(0.8)\n"
   ]
  },
  {
   "cell_type": "markdown",
   "metadata": {},
   "source": [
    "### Initialize"
   ]
  },
  {
   "cell_type": "code",
   "execution_count": 9,
   "metadata": {},
   "outputs": [
    {
     "name": "stdout",
     "output_type": "stream",
     "text": [
      "Ready to start\n"
     ]
    }
   ],
   "source": [
    "# Delete the object on GAZEBO \n",
    "delete_gazebo_model([object_name])\n",
    "# Detach the object from the gripper \n",
    "gripper_group.detach_object(object_name)\n",
    "# Delte the object on RViz \n",
    "scene.remove_world_object(object_name)\n",
    "# Move to initial pose \n",
    "move_arm(joints_seq_home)\n",
    "# Close gripper \n",
    "move_gripper(0.)\n",
    "print(\"Ready to start\")"
   ]
  },
  {
   "cell_type": "code",
   "execution_count": null,
   "metadata": {},
   "outputs": [],
   "source": []
  }
 ],
 "metadata": {
  "interpreter": {
   "hash": "e7370f93d1d0cde622a1f8e1c04877d8463912d04d973331ad4851f04de6915a"
  },
  "kernelspec": {
   "display_name": "Python 3.8.10 64-bit",
   "language": "python",
   "name": "python3"
  },
  "language_info": {
   "codemirror_mode": {
    "name": "ipython",
    "version": 3
   },
   "file_extension": ".py",
   "mimetype": "text/x-python",
   "name": "python",
   "nbconvert_exporter": "python",
   "pygments_lexer": "ipython3",
   "version": "3.8.10"
  },
  "orig_nbformat": 4
 },
 "nbformat": 4,
 "nbformat_minor": 2
}
