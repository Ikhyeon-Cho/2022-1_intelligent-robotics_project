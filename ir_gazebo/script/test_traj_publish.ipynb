{
 "cells": [
  {
   "cell_type": "code",
   "execution_count": 1,
   "metadata": {},
   "outputs": [
    {
     "name": "stdout",
     "output_type": "stream",
     "text": [
      "Packages Loaded.\n"
     ]
    }
   ],
   "source": [
    "import rospy\n",
    "import numpy as np \n",
    "from std_msgs.msg import Header\n",
    "from trajectory_msgs.msg import JointTrajectory\n",
    "from trajectory_msgs.msg import JointTrajectoryPoint\n",
    "\n",
    "print(\"Packages Loaded.\")"
   ]
  },
  {
   "cell_type": "code",
   "execution_count": 2,
   "metadata": {},
   "outputs": [
    {
     "name": "stdout",
     "output_type": "stream",
     "text": [
      "Unable to register with master node [http://localhost:11311]: master may not be running yet. Will keep trying.\n"
     ]
    },
    {
     "ename": "ROSInitException",
     "evalue": "Failed to initialize time. Please check logs for additional details",
     "output_type": "error",
     "traceback": [
      "\u001b[0;31m---------------------------------------------------------------------------\u001b[0m",
      "\u001b[0;31mROSInitException\u001b[0m                          Traceback (most recent call last)",
      "\u001b[1;32m/home/sangbeom/catkin_ws/src/2022-1-intelligent-robotics-project/ir_gazebo/script/test_traj_publish.ipynb Cell 2'\u001b[0m in \u001b[0;36m<cell line: 1>\u001b[0;34m()\u001b[0m\n\u001b[0;32m----> <a href='vscode-notebook-cell:/home/sangbeom/catkin_ws/src/2022-1-intelligent-robotics-project/ir_gazebo/script/test_traj_publish.ipynb#ch0000001?line=0'>1</a>\u001b[0m rospy\u001b[39m.\u001b[39;49minit_node(\u001b[39m'\u001b[39;49m\u001b[39mpublish_joints\u001b[39;49m\u001b[39m'\u001b[39;49m)\n\u001b[1;32m      <a href='vscode-notebook-cell:/home/sangbeom/catkin_ws/src/2022-1-intelligent-robotics-project/ir_gazebo/script/test_traj_publish.ipynb#ch0000001?line=1'>2</a>\u001b[0m arm_joint_names \u001b[39m=\u001b[39m [\u001b[39m'\u001b[39m\u001b[39mshoulder_pan_joint\u001b[39m\u001b[39m'\u001b[39m,\u001b[39m'\u001b[39m\u001b[39mshoulder_lift_joint\u001b[39m\u001b[39m'\u001b[39m,\u001b[39m'\u001b[39m\u001b[39melbow_joint\u001b[39m\u001b[39m'\u001b[39m, \n\u001b[1;32m      <a href='vscode-notebook-cell:/home/sangbeom/catkin_ws/src/2022-1-intelligent-robotics-project/ir_gazebo/script/test_traj_publish.ipynb#ch0000001?line=2'>3</a>\u001b[0m                 \u001b[39m'\u001b[39m\u001b[39mwrist_1_joint\u001b[39m\u001b[39m'\u001b[39m, \u001b[39m'\u001b[39m\u001b[39mwrist_2_joint\u001b[39m\u001b[39m'\u001b[39m,\u001b[39m'\u001b[39m\u001b[39mwrist_3_joint\u001b[39m\u001b[39m'\u001b[39m]\n\u001b[1;32m      <a href='vscode-notebook-cell:/home/sangbeom/catkin_ws/src/2022-1-intelligent-robotics-project/ir_gazebo/script/test_traj_publish.ipynb#ch0000001?line=3'>4</a>\u001b[0m gripper_joint_names \u001b[39m=\u001b[39m [\u001b[39m'\u001b[39m\u001b[39mgripper_finger1_joint\u001b[39m\u001b[39m'\u001b[39m]\n",
      "File \u001b[0;32m/opt/ros/noetic/lib/python3/dist-packages/rospy/client.py:336\u001b[0m, in \u001b[0;36minit_node\u001b[0;34m(name, argv, anonymous, log_level, disable_rostime, disable_rosout, disable_signals, xmlrpc_port, tcpros_port)\u001b[0m\n\u001b[1;32m    <a href='file:///opt/ros/noetic/lib/python3/dist-packages/rospy/client.py?line=333'>334</a>\u001b[0m \u001b[39mif\u001b[39;00m \u001b[39mnot\u001b[39;00m disable_rostime:\n\u001b[1;32m    <a href='file:///opt/ros/noetic/lib/python3/dist-packages/rospy/client.py?line=334'>335</a>\u001b[0m     \u001b[39mif\u001b[39;00m \u001b[39mnot\u001b[39;00m rospy\u001b[39m.\u001b[39mimpl\u001b[39m.\u001b[39msimtime\u001b[39m.\u001b[39minit_simtime():\n\u001b[0;32m--> <a href='file:///opt/ros/noetic/lib/python3/dist-packages/rospy/client.py?line=335'>336</a>\u001b[0m         \u001b[39mraise\u001b[39;00m rospy\u001b[39m.\u001b[39mexceptions\u001b[39m.\u001b[39mROSInitException(\u001b[39m\"\u001b[39m\u001b[39mFailed to initialize time. Please check logs for additional details\u001b[39m\u001b[39m\"\u001b[39m)\n\u001b[1;32m    <a href='file:///opt/ros/noetic/lib/python3/dist-packages/rospy/client.py?line=336'>337</a>\u001b[0m \u001b[39melse\u001b[39;00m:\n\u001b[1;32m    <a href='file:///opt/ros/noetic/lib/python3/dist-packages/rospy/client.py?line=337'>338</a>\u001b[0m     rospy\u001b[39m.\u001b[39mrostime\u001b[39m.\u001b[39mset_rostime_initialized(\u001b[39mTrue\u001b[39;00m)\n",
      "\u001b[0;31mROSInitException\u001b[0m: Failed to initialize time. Please check logs for additional details"
     ]
    }
   ],
   "source": [
    "rospy.init_node('publish_joints')\n",
    "arm_joint_names = ['shoulder_pan_joint','shoulder_lift_joint','elbow_joint', \n",
    "                'wrist_1_joint', 'wrist_2_joint','wrist_3_joint']\n",
    "gripper_joint_names = ['gripper_finger1_joint']\n",
    "rate    = rospy.Rate(50)\n",
    "arm_pub = rospy.Publisher('/arm_controller/command', JointTrajectory, queue_size=10)\n",
    "gripper_pub = rospy.Publisher('/gripper_controller/command', JointTrajectory, queue_size=10)"
   ]
  },
  {
   "cell_type": "code",
   "execution_count": null,
   "metadata": {},
   "outputs": [],
   "source": [
    "def move_gripper(joint):\n",
    "    global gripper_joint_names, gripper_pub\n",
    "    \"\"\" Open- Close Gripper \"\"\"\n",
    "    gripper        = JointTrajectory()\n",
    "    gripper_value  = JointTrajectoryPoint()\n",
    "    gripper.header = Header()\n",
    "    gripper.joint_names = gripper_joint_names\n",
    "    gripper_value.positions = [joint] # Open pose\n",
    "    gripper_value.time_from_start = rospy.Duration.from_sec(0.01)\n",
    "    gripper.points.append(gripper_value)\n",
    "    gripper_pub.publish(gripper)\n",
    "\n",
    "\n",
    "def move_arm(joint_seq): \n",
    "    Flag = True \n",
    "    global arm_joint_names, rate, arm_pub\n",
    "    while Flag:\n",
    "        \"\"\" Move to pick an object \"\"\"\n",
    "        for idx, joints in enumerate(joint_seq):\n",
    "            joint = joints.reshape([6,])\n",
    "            arm = JointTrajectory()\n",
    "            arm_value = JointTrajectoryPoint()\n",
    "            arm.header = Header()\n",
    "            arm.joint_names= arm_joint_names\n",
    "            arm_value.positions       = joint\n",
    "            arm_value.time_from_start = rospy.Duration.from_sec(0.01)\n",
    "            arm.points.append(arm_value)\n",
    "            arm_pub.publish(arm)\n",
    "            rate.sleep()    \n",
    "            if idx+1 == len(joint_seq): \n",
    "                Flag = False \n",
    "\n",
    "def main():\n",
    "    \"\"\" Load joint values \"\"\"\n",
    "    # load_data       = np.load(\"data/sample_traj.npz\")\n",
    "    load_data_pick  = np.load(\"data/sample_traj_pick.npz\")\n",
    "    load_data_place = np.load(\"data/sample_traj_place.npz\")\n",
    "    load_data_home  = np.load(\"data/sample_traj_home.npz\")\n",
    "\n",
    "    joints_seq_pick  = load_data_pick[\"joint\"]\n",
    "    joints_seq_place = load_data_place[\"joint\"]\n",
    "    joints_seq_home  = load_data_home[\"joint\"]\n",
    "\n",
    "    move_arm(joints_seq_pick)\n",
    "    move_gripper(0.8)\n",
    "    # move_arm(joints_seq_place)\n",
    "\n"
   ]
  },
  {
   "cell_type": "code",
   "execution_count": null,
   "metadata": {},
   "outputs": [],
   "source": [
    "if __name__ == '__main__':\n",
    "    try:\n",
    "        main()\n",
    "    except rospy.ROSInterruptException:\n",
    "        print (\"Program interrupted before completion\")"
   ]
  }
 ],
 "metadata": {
  "interpreter": {
   "hash": "e7370f93d1d0cde622a1f8e1c04877d8463912d04d973331ad4851f04de6915a"
  },
  "kernelspec": {
   "display_name": "Python 3.8.10 64-bit",
   "language": "python",
   "name": "python3"
  },
  "language_info": {
   "codemirror_mode": {
    "name": "ipython",
    "version": 3
   },
   "file_extension": ".py",
   "mimetype": "text/x-python",
   "name": "python",
   "nbconvert_exporter": "python",
   "pygments_lexer": "ipython3",
   "version": "3.8.10"
  },
  "orig_nbformat": 4
 },
 "nbformat": 4,
 "nbformat_minor": 2
}
