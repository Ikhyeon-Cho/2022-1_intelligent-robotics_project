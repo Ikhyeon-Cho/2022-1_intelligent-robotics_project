{
 "cells": [
  {
   "cell_type": "code",
   "execution_count": 1,
   "metadata": {},
   "outputs": [
    {
     "name": "stdout",
     "output_type": "stream",
     "text": [
      "Packages Loaded.\n"
     ]
    }
   ],
   "source": [
    "import fcl \n",
    "import math \n",
    "import numpy as np \n",
    "from tf.transformations import quaternion_from_euler \n",
    "\n",
    "print(\"Packages Loaded.\")"
   ]
  },
  {
   "cell_type": "markdown",
   "metadata": {},
   "source": [
    "## Tutorial: Flexible Collision Library "
   ]
  },
  {
   "cell_type": "code",
   "execution_count": 2,
   "metadata": {},
   "outputs": [],
   "source": [
    "def make_box(name, pos, rot, size): \n",
    "    return {\"name\":name, \"type\":\"box\", \"info\":pos+rot+size}\n",
    "\n",
    "\"\"\" Flexible Collision Library \"\"\"\n",
    "class PyFCL:\n",
    "    def __init__(self, _num_max_contacts = 100, _verbose = True):\n",
    "        self.geom_lst = []\n",
    "        self.objs_lst = []\n",
    "        self.name_lst = [] \n",
    "        self.verbose  = _verbose\n",
    "        self.req      = fcl.CollisionRequest()\n",
    "        self.res      = fcl.CollisionResult()\n",
    "        self.cdata    = fcl.CollisionData(request = self.req)\n",
    "\n",
    "    # capsule type: [position[0], position[1], position[2], rpy[0], rpy[1], rpy[2], height, radius]\n",
    "    # box type: [position[0], position[1], position[2], rpy[0], rpy[1], rpy[2], size[0], size[1], size[2]]\n",
    "    def fclize_obj(self, _name, _type, obj_info): \n",
    "        obj_name, obj_type = str(_name), str(_type) \n",
    "        if obj_type == \"capsule\":\n",
    "            obj_pos, obj_rpy, obj_height, obj_radius = obj_info[:3], obj_info[3:6], obj_info[6], obj_info[7]\n",
    "            obj_q = quaternion_from_euler (obj_rpy[0], obj_rpy[1], obj_rpy[2]) \n",
    "            obj_t = np.array(obj_pos)\n",
    "            obj_g = fcl.Capsule(obj_radius, obj_height)\n",
    "            obj_t = fcl.Transform(obj_q, obj_t)\n",
    "            obj_o = fcl.CollisionObject(obj_g, obj_t)\n",
    " \n",
    "        if obj_type == \"box\": \n",
    "            obj_pos, obj_rpy, obj_size = obj_info[:3], obj_info[3:6], obj_info[6:] \n",
    "            obj_q = quaternion_from_euler (obj_rpy[0], obj_rpy[1], obj_rpy[2]) \n",
    "            obj_t = np.array(obj_pos)            \n",
    "            obj_g = fcl.Box(obj_size[0], obj_size[1], obj_size[2])\n",
    "            obj_t = fcl.Transform(obj_q, obj_t)\n",
    "            obj_o = fcl.CollisionObject(obj_g, obj_t)\n",
    "        self.geom_lst.append(obj_g)\n",
    "        self.objs_lst.append(obj_o)\n",
    "        self.name_lst.append(obj_name)\n",
    "        return obj_o \n",
    "\n",
    "    def one2one_cc(self, fclize_obj1, fclize_obj2):\n",
    "        collision = fcl.collide(fclize_obj1, fclize_obj2, self.req, self.res)\n",
    "        \"\"\" Collision Check \"\"\"\n",
    "        if collision: \n",
    "            if self.verbose: \n",
    "                print('*WARNING* {} in collision with object {}!'.format(self.name_lst[0], self.name_lst[1]))\n",
    "            return True # Collision detect\n",
    "        else: \n",
    "            if self.verbose: \n",
    "                print(\"Collision Free\")\n",
    "            return False  # Collision free \n",
    "\n",
    "    def one2many_cc(self, obj, obj_list):\n",
    "        manager = fcl.DynamicAABBTreeCollisionManager()\n",
    "        manager.registerObjects(obj_list)\n",
    "        manager.setup()\n",
    "        manager.collide(obj, self.cdata, fcl.defaultCollisionCallback)\n",
    "        collision = self.cdata.result.is_collision\n",
    "        if self.verbose: \n",
    "            objs_in_collision = set() \n",
    "            # Create map from geometry IDs to objects\n",
    "            geom_id_to_obj  = {id(geom) : obj for geom, obj in zip(self.geom_lst, self.objs_lst)}\n",
    "            # Create map from geometry IDs to string names\n",
    "            geom_id_to_name = {id(geom) : name for geom, name in zip(self.geom_lst, self.name_lst)}\n",
    "            for contact in self.cdata.result.contacts:\n",
    "                coll_geom_0 = contact.o1\n",
    "                coll_geom_1 = contact.o2\n",
    "\n",
    "                # Get their names\n",
    "                coll_names = [geom_id_to_name[id(coll_geom_0)], geom_id_to_name[id(coll_geom_1)]]\n",
    "                coll_names = tuple(sorted(coll_names))\n",
    "                objs_in_collision.add(coll_names)\n",
    "\n",
    "            for coll_pair in objs_in_collision:\n",
    "                pass\n",
    "                print('*WARNING* {} in collision with object {}!'.format(coll_pair[0], coll_pair[1]))\n",
    "        \"\"\" Collision Check \"\"\"\n",
    "        if collision: \n",
    "            return True # Collision detect\n",
    "        else: \n",
    "            return False  # Collision free \n",
    "\n",
    "\n",
    "    def one2one_collision_check(self, obj_info, link_list, type):\n",
    "        \"\"\" Object part \"\"\"\n",
    "        obj_type       = obj_info[0]\n",
    "        obj_name       = obj_info[1]\n",
    "        obj_value = [float(param) for param in obj_info[2:]]\n",
    "        obj_position   = np.array([obj_value[0], obj_value[1], obj_value[2]])\n",
    "        qx_obj, qy_obj, qz_obj, qw_obj= quaternion_from_euler (obj_value[3], obj_value[4], obj_value[5])\n",
    "        obj_quaternion = np.array([qx_obj, qy_obj, qz_obj, qw_obj])\n",
    "\n",
    "        if obj_type == \"box\": \n",
    "            obj_gb = fcl.Box(obj_value[6], obj_value[7], obj_value[8])\n",
    "            obj_tb = fcl.Transform(obj_quaternion, obj_position)\n",
    "            obj_ob = fcl.CollisionObject(obj_gb, obj_tb)\n",
    "        self.geom_lst.append(obj_gb)\n",
    "        self.objs_lst.append(obj_ob)\n",
    "        self.name_lst.append(obj_name)\n",
    "\n",
    "        \"\"\" Robot link part \"\"\"\n",
    "        link_ocap_lst = [] \n",
    "        if type == \"capsule\":\n",
    "            for idx, link in enumerate(link_list): \n",
    "                link_name     = str(link[0])\n",
    "                link_value    = [float(param) for param in link[1:]]\n",
    "                link_position = np.array([link_value[0], link_value[1], link_value[2]])\n",
    "                qx_link, qy_link, qz_link, qw_link = quaternion_from_euler (link_value[3], link_value[4], link_value[5])\n",
    "                link_quaternion = np.array([qx_link, qy_link, qz_link, qw_link])  \n",
    "                link_height, link_rad = link_value[6], link_value[7]\n",
    "                link_gcap = fcl.Capsule(link_rad, link_height)\n",
    "                link_tcap = fcl.Transform(link_quaternion, link_position)\n",
    "                link_ocap = fcl.CollisionObject(link_gcap, link_tcap)\n",
    "                self.geom_lst.append(link_gcap)\n",
    "                self.objs_lst.append(link_ocap)\n",
    "                self.name_lst.append(link_name)\n",
    "                if link_height ==0 or link_rad ==0:\n",
    "                    pass\n",
    "                else:\n",
    "                    link_ocap_lst.append(link_ocap)\n",
    "                \n",
    "        if type == \"box\": \n",
    "            for idx, link in enumerate(link_list): \n",
    "                link_name     = str(link[0])\n",
    "                link_value    = [float(param) for param in link[1:]]\n",
    "                link_position = np.array([link_value[0], link_value[1], link_value[2]])\n",
    "                qx_link, qy_link, qz_link, qw_link = quaternion_from_euler (link_value[3], link_value[4], link_value[5])\n",
    "                link_quaternion = np.array([qx_link, qy_link, qz_link, qw_link])  \n",
    "                link_x, link_y, link_z = link_value[6], link_value[7], link_value[8]\n",
    "                link_gcap = fcl.Box(link_x, link_y, link_z)\n",
    "                link_tcap = fcl.Transform(link_quaternion, link_position)\n",
    "                link_ocap = fcl.CollisionObject(link_gcap, link_tcap)\n",
    "                self.geom_lst.append(link_gcap)\n",
    "                self.objs_lst.append(link_ocap)\n",
    "                self.name_lst.append(link_name)\n",
    "                link_ocap_lst.append(link_ocap)   \n",
    "\n",
    "        in_collision = np.ones(len(link_ocap))\n",
    "        \"\"\" Collision Check \"\"\"\n",
    "        collision = fcl.collide(obj_ob, link_ocap, self.req, self.res)\n",
    "        if collision == 0:\n",
    "            in_collision[idx] = 0\n",
    "\n",
    "        if sum(in_collision) == 0:\n",
    "            return False\n",
    "        else: \n",
    "            return True"
   ]
  },
  {
   "cell_type": "code",
   "execution_count": 3,
   "metadata": {},
   "outputs": [],
   "source": [
    "\"\"\" Sample \"\"\"\n",
    "objinfo1 = [1, 2, 3, 0, 0, 0, 1, 1]\n",
    "type1 = 'capsule'\n",
    "name1 = 'obs1'\n",
    "\n",
    "objinfo2 = [1, 2, 3, 0, 0, 0, 1, 1, 1]\n",
    "type2 = 'box'\n",
    "name2 = 'obs2'\n",
    "\n",
    "objinfo3 = [1, 2, 3, 0, 0, 0, 1, 1, 1]\n",
    "type3 = 'box'\n",
    "name3 = 'obs3'\n",
    "\n",
    "objinfo4 = [1, 2, 3, 0, 0, 0, 1, 1, 1]\n",
    "type4 = 'box'\n",
    "name4 = 'obs4'\n",
    "\n",
    "objinfo5 = [5, 5, 5, 0, 0, 0, 1, 1, 1]\n",
    "type5 = 'box'\n",
    "name5 = 'obs5'\n"
   ]
  },
  {
   "cell_type": "markdown",
   "metadata": {},
   "source": [
    "### One to Many Collision Check"
   ]
  },
  {
   "cell_type": "code",
   "execution_count": 4,
   "metadata": {},
   "outputs": [
    {
     "name": "stdout",
     "output_type": "stream",
     "text": [
      "*WARNING* obs1 in collision with object obs2!\n",
      "*WARNING* obs1 in collision with object obs1!\n",
      "Is collision? True\n"
     ]
    }
   ],
   "source": [
    "\"\"\" Object Instance \"\"\"\n",
    "fclize = PyFCL() \n",
    "\n",
    "a = fclize.fclize_obj(name1, type1, objinfo1)\n",
    "b = fclize.fclize_obj(name2, type2, objinfo2)\n",
    "obj_list = [a,b]\n",
    "\n",
    "\"\"\" Check Collision \"\"\"\n",
    "one2many_result = fclize.one2many_cc(a , obj_list)\n",
    "print(\"Is collision? %s\"%one2many_result)\n"
   ]
  },
  {
   "cell_type": "markdown",
   "metadata": {},
   "source": [
    "### One to One Collision Check "
   ]
  },
  {
   "cell_type": "code",
   "execution_count": 5,
   "metadata": {},
   "outputs": [
    {
     "name": "stdout",
     "output_type": "stream",
     "text": [
      "*WARNING* obs3 in collision with object obs4!\n",
      "Is collision? True\n",
      "Collision Free\n",
      "Is collision? False\n"
     ]
    }
   ],
   "source": [
    "\"\"\" Object Instance \"\"\"\n",
    "fclize = PyFCL() \n",
    "c = fclize.fclize_obj(name3, type3, objinfo3)\n",
    "d = fclize.fclize_obj(name4, type4, objinfo4)\n",
    "e = fclize.fclize_obj(name5, type5, objinfo5)\n",
    "\n",
    "\"\"\" Check Collision \"\"\"\n",
    "one2one_result = fclize.one2one_cc(c, d)\n",
    "print(\"Is collision? %s\"%one2one_result)\n",
    "\n",
    "one2one_result2 = fclize.one2one_cc(c, e)\n",
    "print(\"Is collision? %s\"%one2one_result2)"
   ]
  }
 ],
 "metadata": {
  "interpreter": {
   "hash": "e7370f93d1d0cde622a1f8e1c04877d8463912d04d973331ad4851f04de6915a"
  },
  "kernelspec": {
   "display_name": "Python 3.8.10 64-bit",
   "language": "python",
   "name": "python3"
  },
  "language_info": {
   "codemirror_mode": {
    "name": "ipython",
    "version": 3
   },
   "file_extension": ".py",
   "mimetype": "text/x-python",
   "name": "python",
   "nbconvert_exporter": "python",
   "pygments_lexer": "ipython3",
   "version": "3.8.10"
  },
  "orig_nbformat": 4
 },
 "nbformat": 4,
 "nbformat_minor": 2
}
