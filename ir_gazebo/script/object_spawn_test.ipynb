{
 "cells": [
  {
   "cell_type": "code",
   "execution_count": 1,
   "metadata": {},
   "outputs": [
    {
     "name": "stdout",
     "output_type": "stream",
     "text": [
      "Packages Loaded\n"
     ]
    }
   ],
   "source": [
    "import tf\n",
    "import os\n",
    "import rospy\n",
    "import rospkg\n",
    "from gazebo_msgs.srv import (SpawnModel,DeleteModel)\n",
    "from geometry_msgs.msg import (PoseStamped,Pose,Point,Quaternion)\n",
    "\n",
    "print(\"Packages Loaded\")"
   ]
  },
  {
   "cell_type": "markdown",
   "metadata": {},
   "source": [
    "### Rospy Initialize"
   ]
  },
  {
   "cell_type": "code",
   "execution_count": 2,
   "metadata": {},
   "outputs": [],
   "source": [
    "rospy.init_node('object_spawn', anonymous=True)"
   ]
  },
  {
   "cell_type": "markdown",
   "metadata": {},
   "source": [
    "### Function"
   ]
  },
  {
   "cell_type": "code",
   "execution_count": 3,
   "metadata": {},
   "outputs": [],
   "source": [
    "def spawn_gazebo_model(model_path, model_name, model_pose, reference_frame=\"world\"):\n",
    "  \"\"\"\n",
    "  Spawn model in gazebo\n",
    "  \"\"\"\n",
    "  model_xml = ''\n",
    "  with open(model_path, \"r\") as model_file:\n",
    "    model_xml = model_file.read().replace('\\n', '')\n",
    "  rospy.wait_for_service('/gazebo/spawn_sdf_model')\n",
    "  try:\n",
    "    spawn_sdf = rospy.ServiceProxy('/gazebo/spawn_sdf_model', SpawnModel)\n",
    "    resp_sdf= spawn_sdf(model_name, model_xml, \"/\", model_pose, reference_frame)\n",
    "  except rospy.ServiceException:\n",
    "    rospy.logerr(\"Spawn SDF service call failed\")\n",
    "\n",
    "def delete_gazebo_model(models):\n",
    "  \"\"\"\n",
    "  Delete model in gazebo\n",
    "  \"\"\"\n",
    "  try:\n",
    "    delete_model = rospy.ServiceProxy('/gazebo/delete_model', DeleteModel)\n",
    "    for a_model in models:\n",
    "      resp_delete = delete_model(a_model)\n",
    "  except rospy.ServiceException:\n",
    "    rospy.loginfo(\"Delete Model service call failed\")\n"
   ]
  },
  {
   "cell_type": "markdown",
   "metadata": {},
   "source": [
    "### Spawn a cylinder object"
   ]
  },
  {
   "cell_type": "code",
   "execution_count": 10,
   "metadata": {},
   "outputs": [
    {
     "name": "stdout",
     "output_type": "stream",
     "text": [
      "Spawn cylinder\n"
     ]
    }
   ],
   "source": [
    "rospack = rospkg.RosPack()\n",
    "pack_path = rospack.get_path('ir_gazebo')\n",
    "\n",
    "\n",
    "object_path = pack_path+os.sep+'urdf'+os.sep+'object'+os.sep+'cylinder.sdf'\n",
    "object_name = 'cylinder'\n",
    "object_pose = Pose(position=Point(x=1.16, y=0.0, z=1.2))\n",
    "\n",
    "spawn_gazebo_model(object_path, object_name, object_pose)\n",
    "print(\"Spawn %s\"%object_name)"
   ]
  },
  {
   "cell_type": "markdown",
   "metadata": {},
   "source": [
    "### Delete a cylinder object "
   ]
  },
  {
   "cell_type": "code",
   "execution_count": 9,
   "metadata": {},
   "outputs": [
    {
     "name": "stdout",
     "output_type": "stream",
     "text": [
      "Delete cylinder\n"
     ]
    }
   ],
   "source": [
    "delete_gazebo_model([object_name])\n",
    "print(\"Delete %s\"%object_name)"
   ]
  },
  {
   "cell_type": "code",
   "execution_count": null,
   "metadata": {},
   "outputs": [],
   "source": []
  }
 ],
 "metadata": {
  "interpreter": {
   "hash": "e7370f93d1d0cde622a1f8e1c04877d8463912d04d973331ad4851f04de6915a"
  },
  "kernelspec": {
   "display_name": "Python 3.8.10 64-bit",
   "language": "python",
   "name": "python3"
  },
  "language_info": {
   "codemirror_mode": {
    "name": "ipython",
    "version": 3
   },
   "file_extension": ".py",
   "mimetype": "text/x-python",
   "name": "python",
   "nbconvert_exporter": "python",
   "pygments_lexer": "ipython3",
   "version": "3.8.10"
  },
  "orig_nbformat": 4
 },
 "nbformat": 4,
 "nbformat_minor": 2
}
