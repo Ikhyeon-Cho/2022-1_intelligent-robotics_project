{
 "cells": [
  {
   "cell_type": "code",
   "execution_count": null,
   "metadata": {},
   "outputs": [],
   "source": [
    "import tf\n",
    "import os\n",
    "import rospy\n",
    "import rospkg\n",
    "from gazebo_msgs.srv import (SpawnModel,DeleteModel)\n",
    "from geometry_msgs.msg import (PoseStamped,Pose,Point,Quaternion)\n",
    "\n",
    "print(\"Packages Loaded\")"
   ]
  },
  {
   "cell_type": "markdown",
   "metadata": {},
   "source": [
    "### Rospy Initialize"
   ]
  },
  {
   "cell_type": "code",
   "execution_count": null,
   "metadata": {},
   "outputs": [],
   "source": [
    "rospy.init_node('object_spawn', anonymous=True)"
   ]
  },
  {
   "cell_type": "markdown",
   "metadata": {},
   "source": [
    "### Function"
   ]
  },
  {
   "cell_type": "code",
   "execution_count": null,
   "metadata": {},
   "outputs": [],
   "source": [
    "def spawn_gazebo_model(model_path, model_name, model_pose, reference_frame=\"world\"):\n",
    "  \"\"\"\n",
    "  Spawn model in gazebo\n",
    "  \"\"\"\n",
    "  model_xml = ''\n",
    "  with open(model_path, \"r\") as model_file:\n",
    "    model_xml = model_file.read().replace('\\n', '')\n",
    "  rospy.wait_for_service('/gazebo/spawn_urdf_model')\n",
    "  try:\n",
    "    spawn_urdf = rospy.ServiceProxy('/gazebo/spawn_urdf_model', SpawnModel)\n",
    "    resp_urdf = spawn_urdf(model_name, model_xml, \"/\", model_pose, reference_frame)\n",
    "  except rospy.ServiceException:\n",
    "    rospy.logerr(\"Spawn URDF service call failed\")\n",
    "\n",
    "def delete_gazebo_model(models):\n",
    "  \"\"\"\n",
    "  Delete model in gazebo\n",
    "  \"\"\"\n",
    "  try:\n",
    "    delete_model = rospy.ServiceProxy('/gazebo/delete_model', DeleteModel)\n",
    "    for a_model in models:\n",
    "      resp_delete = delete_model(a_model)\n",
    "  except rospy.ServiceException:\n",
    "    rospy.loginfo(\"Delete Model service call failed\")\n"
   ]
  },
  {
   "cell_type": "markdown",
   "metadata": {},
   "source": [
    "### Spawn a cylinder object"
   ]
  },
  {
   "cell_type": "code",
   "execution_count": null,
   "metadata": {},
   "outputs": [],
   "source": [
    "rospack = rospkg.RosPack()\n",
    "pack_path = rospack.get_path('ir_gazebo')\n",
    "\n",
    "\n",
    "object_path = pack_path+os.sep+'urdf'+os.sep+'object'+os.sep+'cylinder.sdf'\n",
    "object_name = 'cylinder'\n",
    "object_pose = Pose(position=Point(x=1.16, y=0.0, z=0.588))\n",
    "\n",
    "spawn_gazebo_model(object_path, object_name, object_pose)\n",
    "print(\"Spawn %s\"%object_name)"
   ]
  },
  {
   "cell_type": "markdown",
   "metadata": {},
   "source": [
    "### Delete a cylinder object "
   ]
  },
  {
   "cell_type": "code",
   "execution_count": null,
   "metadata": {},
   "outputs": [],
   "source": [
    "delete_gazebo_model([object_name])\n",
    "print(\"Delete %s\"%object_name)"
   ]
  }
 ],
 "metadata": {
  "language_info": {
   "name": "python"
  },
  "orig_nbformat": 4
 },
 "nbformat": 4,
 "nbformat_minor": 2
}
