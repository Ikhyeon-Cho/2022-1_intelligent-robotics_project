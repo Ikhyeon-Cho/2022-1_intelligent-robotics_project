{
 "cells": [
  {
   "cell_type": "code",
   "execution_count": 3,
   "metadata": {},
   "outputs": [
    {
     "name": "stdout",
     "output_type": "stream",
     "text": [
      "Packages Loaded.\n"
     ]
    }
   ],
   "source": [
    "import sys\n",
    "import rospy\n",
    "import moveit_commander\n",
    "import tf\n",
    "import numpy\n",
    "import copy\n",
    "import time\n",
    "\n",
    "from geometry_msgs.msg import (\n",
    "    PoseStamped,\n",
    "    Pose,\n",
    "    Point,\n",
    "    Quaternion,\n",
    ")\n",
    "from std_msgs.msg import Header\n",
    "from trajectory_msgs.msg import JointTrajectory\n",
    "from trajectory_msgs.msg import JointTrajectoryPoint\n",
    "\n",
    "print(\"Packages Loaded.\")\n"
   ]
  },
  {
   "cell_type": "markdown",
   "metadata": {},
   "source": [
    "## Set Moveit Controller"
   ]
  },
  {
   "cell_type": "code",
   "execution_count": 4,
   "metadata": {},
   "outputs": [
    {
     "name": "stdout",
     "output_type": "stream",
     "text": [
      "\u001b[0m[ INFO] [1651470290.268320079]: Loading robot model 'rilab_robot'...\u001b[0m\n",
      "Moveit control group name:['arm', 'gripper']\n",
      "\u001b[0m[ INFO] [1651470290.268957821]: No root/virtual joint specified in SRDF. Assuming fixed joint\u001b[0m\n"
     ]
    }
   ],
   "source": [
    "moveit_commander.roscpp_initialize(sys.argv)\n",
    "robot         = moveit_commander.RobotCommander()\n",
    "group_name=robot.get_group_names()\n",
    "print(\"Moveit control group name:%s\"%group_name)"
   ]
  },
  {
   "cell_type": "code",
   "execution_count": 5,
   "metadata": {},
   "outputs": [
    {
     "name": "stdout",
     "output_type": "stream",
     "text": [
      "\u001b[0m[ INFO] [1651470292.596101026, 257.420000000]: Ready to take commands for planning group arm.\u001b[0m\n",
      "\u001b[0m[ INFO] [1651470293.120530094, 257.944000000]: Ready to take commands for planning group gripper.\u001b[0m\n"
     ]
    }
   ],
   "source": [
    "arm_group     = moveit_commander.MoveGroupCommander(\"arm\")\n",
    "gripper_group = moveit_commander.MoveGroupCommander(\"gripper\")"
   ]
  },
  {
   "cell_type": "markdown",
   "metadata": {},
   "source": [
    "### Moveit Arm Control"
   ]
  },
  {
   "cell_type": "code",
   "execution_count": 6,
   "metadata": {},
   "outputs": [
    {
     "name": "stdout",
     "output_type": "stream",
     "text": [
      "Exeucute Up pose.\n"
     ]
    }
   ],
   "source": [
    "arm_group.set_named_target(\"up\")\n",
    "arm_group.go(wait=True)\n",
    "print(\"Exeucute Up pose.\")"
   ]
  },
  {
   "cell_type": "markdown",
   "metadata": {},
   "source": [
    "### Moveit Gripper Control"
   ]
  },
  {
   "cell_type": "code",
   "execution_count": 16,
   "metadata": {},
   "outputs": [
    {
     "name": "stdout",
     "output_type": "stream",
     "text": [
      "Exeucute Open pose.\n"
     ]
    }
   ],
   "source": [
    "gripper_group.set_named_target(\"open\")\n",
    "gripper_group.go(wait=True)\n",
    "print(\"Exeucute Open pose.\")"
   ]
  },
  {
   "cell_type": "markdown",
   "metadata": {},
   "source": [
    "### Moveit Attach Object"
   ]
  },
  {
   "cell_type": "code",
   "execution_count": 37,
   "metadata": {},
   "outputs": [
    {
     "name": "stdout",
     "output_type": "stream",
     "text": [
      "wrist_3_link\n"
     ]
    }
   ],
   "source": []
  },
  {
   "cell_type": "markdown",
   "metadata": {},
   "source": [
    "## Moveit Scene on RViz"
   ]
  },
  {
   "cell_type": "code",
   "execution_count": 49,
   "metadata": {},
   "outputs": [
    {
     "name": "stdout",
     "output_type": "stream",
     "text": [
      "wrist_3_link\n"
     ]
    }
   ],
   "source": [
    "scene = moveit_commander.PlanningSceneInterface()\n",
    "\n",
    "cylinder = PoseStamped()\n",
    "cylinder.header.frame_id = robot.get_planning_frame()\n",
    "cylinder.pose.position.x =0.9\n",
    "cylinder.pose.position.y =0\n",
    "cylinder.pose.position.z =0.79+0.06\n",
    "cylinder.pose.orientation.w = 1.0  \n",
    "\n",
    "box = PoseStamped()\n",
    "box.header.frame_id = robot.get_planning_frame()\n",
    "box.pose.position.x =0.9\n",
    "box.pose.position.y =0\n",
    "box.pose.position.z =0.79+0.06\n",
    "box.pose.orientation.w = 1.0  \n",
    "\n",
    "# scene.add_cylinder(name=\"cylinder\", height=0.2, radius=0.03, pose=cylinder)\n",
    "scene.add_box(\"box\", box, (0.05, 0.05, 0.05))\n",
    "\n",
    "end_effector_link = arm_group.get_end_effector_link()\n",
    "print(end_effector_link)\n"
   ]
  },
  {
   "cell_type": "code",
   "execution_count": 60,
   "metadata": {},
   "outputs": [],
   "source": [
    "scene.attach_box(end_effector_link, \"box\", box, (0.05, 0.05, 0.05))\n"
   ]
  },
  {
   "cell_type": "code",
   "execution_count": 57,
   "metadata": {},
   "outputs": [
    {
     "data": {
      "text/plain": [
       "True"
      ]
     },
     "execution_count": 57,
     "metadata": {},
     "output_type": "execute_result"
    }
   ],
   "source": [
    "touch_links = [\"gripper_finger1_finger_link\", \"gripper_finger2_finger_link\"]\n",
    "gripper_group.attach_object(\"box\", \"gripper_base_link\", touch_links=touch_links)"
   ]
  },
  {
   "cell_type": "code",
   "execution_count": 41,
   "metadata": {},
   "outputs": [],
   "source": [
    "scene.remove_world_object(\"cylinder\")"
   ]
  },
  {
   "cell_type": "code",
   "execution_count": 58,
   "metadata": {},
   "outputs": [
    {
     "data": {
      "text/plain": [
       "True"
      ]
     },
     "execution_count": 58,
     "metadata": {},
     "output_type": "execute_result"
    }
   ],
   "source": [
    "gripper_group.detach_object(\"cylinder\")"
   ]
  },
  {
   "cell_type": "code",
   "execution_count": 59,
   "metadata": {},
   "outputs": [
    {
     "data": {
      "text/plain": [
       "True"
      ]
     },
     "execution_count": 59,
     "metadata": {},
     "output_type": "execute_result"
    }
   ],
   "source": [
    "gripper_group.detach_object(\"box\")"
   ]
  }
 ],
 "metadata": {
  "interpreter": {
   "hash": "e7370f93d1d0cde622a1f8e1c04877d8463912d04d973331ad4851f04de6915a"
  },
  "kernelspec": {
   "display_name": "Python 3.8.10 64-bit",
   "language": "python",
   "name": "python3"
  },
  "language_info": {
   "codemirror_mode": {
    "name": "ipython",
    "version": 3
   },
   "file_extension": ".py",
   "mimetype": "text/x-python",
   "name": "python",
   "nbconvert_exporter": "python",
   "pygments_lexer": "ipython3",
   "version": "3.8.10"
  },
  "orig_nbformat": 4
 },
 "nbformat": 4,
 "nbformat_minor": 2
}
