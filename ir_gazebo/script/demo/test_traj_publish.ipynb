{
 "cells": [
  {
   "cell_type": "code",
   "execution_count": 32,
   "metadata": {},
   "outputs": [
    {
     "name": "stdout",
     "output_type": "stream",
     "text": [
      "Packages Loaded.\n"
     ]
    }
   ],
   "source": [
    "import rospy\n",
    "import numpy as np \n",
    "from std_msgs.msg import Header\n",
    "from trajectory_msgs.msg import JointTrajectory\n",
    "from trajectory_msgs.msg import JointTrajectoryPoint\n",
    "\n",
    "print(\"Packages Loaded.\")"
   ]
  },
  {
   "cell_type": "code",
   "execution_count": 33,
   "metadata": {},
   "outputs": [],
   "source": [
    "rospy.init_node('publish_joints')\n",
    "arm_joint_names = ['shoulder_pan_joint','shoulder_lift_joint','elbow_joint', \n",
    "                'wrist_1_joint', 'wrist_2_joint','wrist_3_joint']\n",
    "gripper_joint_names = ['gripper_finger1_joint']\n",
    "rate    = rospy.Rate(1)\n",
    "arm_pub = rospy.Publisher('/arm_controller/command', JointTrajectory, queue_size=10)\n",
    "gripper_pub = rospy.Publisher('/gripper_controller/command', JointTrajectory, queue_size=10)"
   ]
  },
  {
   "cell_type": "code",
   "execution_count": 34,
   "metadata": {},
   "outputs": [],
   "source": [
    "def move_gripper(joint):\n",
    "    global gripper_joint_names, gripper_pub\n",
    "    \"\"\" Open- Close Gripper \"\"\"\n",
    "    gripper        = JointTrajectory()\n",
    "    gripper_value  = JointTrajectoryPoint()\n",
    "    gripper.header = Header()\n",
    "    gripper.joint_names = gripper_joint_names\n",
    "    gripper_value.positions = [joint] # Open pose\n",
    "    gripper_value.time_from_start = rospy.Duration.from_sec(0.01)\n",
    "    gripper.points.append(gripper_value)\n",
    "    gripper_pub.publish(gripper)\n",
    "\n",
    "\n",
    "def move_arm(joint_seq): \n",
    "    Flag = True \n",
    "    global arm_joint_names, rate, arm_pub\n",
    "    while Flag:\n",
    "        \"\"\" Move to pick an object \"\"\"\n",
    "        for idx, joints in enumerate(joint_seq):\n",
    "            joint = joints.reshape([6,])\n",
    "            arm = JointTrajectory()\n",
    "            arm_value = JointTrajectoryPoint()\n",
    "            arm.header = Header()\n",
    "            arm.joint_names= arm_joint_names\n",
    "            arm_value.positions       = joint\n",
    "            arm_value.time_from_start = rospy.Duration.from_sec(0.01)\n",
    "            arm.points.append(arm_value)\n",
    "            arm_pub.publish(arm)\n",
    "            rate.sleep()    \n",
    "            if idx+1 == len(joint_seq): \n",
    "                Flag = False \n",
    "\n",
    "\n"
   ]
  },
  {
   "cell_type": "code",
   "execution_count": 35,
   "metadata": {},
   "outputs": [
    {
     "name": "stdout",
     "output_type": "stream",
     "text": [
      "Publish trajectories\n"
     ]
    }
   ],
   "source": [
    "\"\"\" Test \"\"\"\n",
    "joint_seq  = np.array([[0,-1.57,-1.57,0,0,0]]) \n",
    "joint_seq2 = np.array([[0,-1.57,0,0,0,0], [0,-1.57,1.57,0,0,0], [0,-1.57,-1.57,1.57,0,0]]) \n",
    "move_arm(joint_seq2)\n",
    "move_gripper(0.8) # Open \n",
    "# move_gripper(0.3) # Close\n",
    "print(\"Publish trajectories\")"
   ]
  }
 ],
 "metadata": {
  "interpreter": {
   "hash": "e7370f93d1d0cde622a1f8e1c04877d8463912d04d973331ad4851f04de6915a"
  },
  "kernelspec": {
   "display_name": "Python 3.8.10 64-bit",
   "language": "python",
   "name": "python3"
  },
  "language_info": {
   "codemirror_mode": {
    "name": "ipython",
    "version": 3
   },
   "file_extension": ".py",
   "mimetype": "text/x-python",
   "name": "python",
   "nbconvert_exporter": "python",
   "pygments_lexer": "ipython3",
   "version": "3.8.10"
  },
  "orig_nbformat": 4
 },
 "nbformat": 4,
 "nbformat_minor": 2
}
