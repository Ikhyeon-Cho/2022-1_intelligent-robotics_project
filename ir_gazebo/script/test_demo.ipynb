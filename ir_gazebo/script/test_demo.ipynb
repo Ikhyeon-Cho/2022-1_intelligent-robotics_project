{
 "cells": [
  {
   "cell_type": "code",
   "execution_count": null,
   "metadata": {},
   "outputs": [],
   "source": [
    "import sys\n",
    "import rospy\n",
    "import rospkg\n",
    "import moveit_commander\n",
    "import tf\n",
    "import os \n",
    "import numpy as np \n",
    "import copy\n",
    "import time\n",
    "\n",
    "from geometry_msgs.msg import (\n",
    "    PoseStamped,\n",
    "    Pose,\n",
    "    Point,\n",
    "    Quaternion,\n",
    ")\n",
    "from gazebo_msgs.srv import (SpawnModel,DeleteModel)\n",
    "from std_msgs.msg import Header\n",
    "from geometry_msgs.msg import (PoseStamped,Pose,Point,Quaternion)\n",
    "from trajectory_msgs.msg import JointTrajectory\n",
    "from trajectory_msgs.msg import JointTrajectoryPoint\n",
    "from structure.class_robot import ROBOT\n",
    "from structure.class_structure import *\n",
    "from structure.utils.util_ik import * \n",
    "\n",
    "import rospy \n",
    "import numpy as np \n",
    "import math \n",
    "\n",
    "print(\"Packages Loaded.\")\n",
    "rospy.init_node(\"object_spawn\")"
   ]
  },
  {
   "cell_type": "markdown",
   "metadata": {},
   "source": [
    "### Set Moveit "
   ]
  },
  {
   "cell_type": "code",
   "execution_count": null,
   "metadata": {},
   "outputs": [],
   "source": [
    "moveit_commander.roscpp_initialize(sys.argv)\n",
    "robot         = moveit_commander.RobotCommander()\n",
    "scene         = moveit_commander.PlanningSceneInterface()\n",
    "group_name    = robot.get_group_names()\n",
    "print(\"Moveit control group name:%s\"%group_name)\n",
    "arm_group     = moveit_commander.MoveGroupCommander(\"arm\")\n",
    "gripper_group = moveit_commander.MoveGroupCommander(\"gripper\")"
   ]
  },
  {
   "cell_type": "markdown",
   "metadata": {},
   "source": [
    "## Spawn-Delete Object "
   ]
  },
  {
   "cell_type": "code",
   "execution_count": null,
   "metadata": {},
   "outputs": [],
   "source": [
    "def spawn_gazebo_model(model_path, model_name, model_pose, reference_frame=\"world\"):\n",
    "  \"\"\"\n",
    "  Spawn model in gazebo\n",
    "  \"\"\"\n",
    "  model_xml = ''\n",
    "  with open(model_path, \"r\") as model_file:\n",
    "    model_xml = model_file.read().replace('\\n', '')\n",
    "  rospy.wait_for_service('/gazebo/spawn_sdf_model')\n",
    "  try:\n",
    "    spawn_sdf = rospy.ServiceProxy('/gazebo/spawn_sdf_model', SpawnModel)\n",
    "    resp_sdf= spawn_sdf(model_name, model_xml, \"/\", model_pose, reference_frame)\n",
    "  except rospy.ServiceException:\n",
    "    rospy.logerr(\"Spawn SDF service call failed\")\n",
    "\n",
    "def delete_gazebo_model(models):\n",
    "  \"\"\"\n",
    "  Delete model in gazebo\n",
    "  \"\"\"\n",
    "  try:\n",
    "    delete_model = rospy.ServiceProxy('/gazebo/delete_model', DeleteModel)\n",
    "    for a_model in models:\n",
    "      resp_delete = delete_model(a_model)\n",
    "  except rospy.ServiceException:\n",
    "    rospy.loginfo(\"Delete Model service call failed\")\n"
   ]
  },
  {
   "cell_type": "markdown",
   "metadata": {},
   "source": [
    "### Set Parameters "
   ]
  },
  {
   "cell_type": "code",
   "execution_count": null,
   "metadata": {},
   "outputs": [],
   "source": [
    "# Parameters \n",
    "table_height    = 0.79\n",
    "# Cylinder \n",
    "cylinder_height = 0.2\n",
    "cylinder_radius = 0.03\n",
    "cylinder_pos_x  = 0.99 \n",
    "cylinder_pos_y  = 0 \n",
    "cylinder_pos_z  = table_height+cylinder_height/2.\n",
    "# Box \n",
    "box_height      = 0.06\n",
    "box_x           = 0.06 \n",
    "box_y           = 0.06\n",
    "box_pos_x       = 0.99 \n",
    "box_pos_y       = 0 \n",
    "box_pos_z       = table_height+box_height/2."
   ]
  },
  {
   "cell_type": "code",
   "execution_count": null,
   "metadata": {},
   "outputs": [],
   "source": [
    "\"\"\" RViz \"\"\"\n",
    "# Cylinder \n",
    "cylinder_name = \"cylinder\"\n",
    "cylinder_pos  = PoseStamped()\n",
    "cylinder_pos.header.frame_id    = robot.get_planning_frame()\n",
    "cylinder_pos.pose.position.x    = cylinder_pos_x\n",
    "cylinder_pos.pose.position.y    = cylinder_pos_y\n",
    "cylinder_pos.pose.position.z    = cylinder_pos_z\n",
    "cylinder_pos.pose.orientation.w = 1.0  \n",
    "# Box \n",
    "box_name = \"box\"\n",
    "box_pos  = PoseStamped()\n",
    "box_pos.header.frame_id    = robot.get_planning_frame()\n",
    "box_pos.pose.position.x    = box_pos_x\n",
    "box_pos.pose.position.y    = box_pos_y\n",
    "box_pos.pose.position.z    = box_pos_z\n",
    "box_pos.pose.orientation.w = 1.0  \n",
    "\n",
    "\"\"\" GAZEBO \"\"\"\n",
    "rospack = rospkg.RosPack()\n",
    "pack_path = rospack.get_path('ir_gazebo')\n",
    "object_path = pack_path+os.sep+'urdf'+os.sep+'object'+os.sep+'cylinder.sdf'\n",
    "object_name = cylinder_name\n",
    "object_pose = Pose(position=Point(x=cylinder_pos_x , y=cylinder_pos_y, z=cylinder_pos_z))\n"
   ]
  },
  {
   "cell_type": "markdown",
   "metadata": {},
   "source": [
    "## Trajectory "
   ]
  },
  {
   "cell_type": "code",
   "execution_count": null,
   "metadata": {},
   "outputs": [],
   "source": [
    "\n",
    "\n",
    "def move_gripper(joint):\n",
    "    global gripper_joint_names, gripper_pub\n",
    "    \"\"\" Open- Close Gripper \"\"\"\n",
    "    gripper        = JointTrajectory()\n",
    "    gripper_value  = JointTrajectoryPoint()\n",
    "    gripper.header = Header()\n",
    "    gripper.joint_names = gripper_joint_names\n",
    "    gripper_value.positions = [joint] # Open pose\n",
    "    gripper_value.time_from_start = rospy.Duration.from_sec(0.01)\n",
    "    gripper.points.append(gripper_value)\n",
    "    gripper_pub.publish(gripper)\n",
    "\n",
    "def single_move(joint_seq): \n",
    "    Flag = True \n",
    "    global arm_joint_names, rate, arm_pub\n",
    "    \"\"\" Move to pick an object \"\"\"\n",
    "    arm = JointTrajectory()\n",
    "    arm_value = JointTrajectoryPoint()\n",
    "    arm.header = Header()\n",
    "    arm.joint_names= arm_joint_names\n",
    "    arm_value.positions       = joint_seq\n",
    "    arm_value.time_from_start = rospy.Duration.from_sec(0.01)\n",
    "    arm.points.append(arm_value)\n",
    "    arm_pub.publish(arm)\n",
    "\n",
    "\n",
    "def move_arm(joint_seq): \n",
    "    Flag = True \n",
    "    global arm_joint_names, rate, arm_pub\n",
    "    while Flag:\n",
    "        \"\"\" Move to pick an object \"\"\"\n",
    "        for idx, joints in enumerate(joint_seq):\n",
    "            joint = joints.reshape([6,])\n",
    "            arm = JointTrajectory()\n",
    "            arm_value = JointTrajectoryPoint()\n",
    "            arm.header = Header()\n",
    "            arm.joint_names= arm_joint_names\n",
    "            arm_value.positions       = joint\n",
    "            arm_value.time_from_start = rospy.Duration.from_sec(0.01)\n",
    "            arm.points.append(arm_value)\n",
    "            arm_pub.publish(arm)\n",
    "            rate.sleep()    \n",
    "            if idx+1 == len(joint_seq): \n",
    "                Flag = False \n",
    "\n"
   ]
  },
  {
   "cell_type": "code",
   "execution_count": null,
   "metadata": {},
   "outputs": [],
   "source": [
    "chain = CHAIN(_file_name=\"structure/utils/ur5e_onrobot.urdf\", verbose=False)\n",
    "chain.add_joi_to_robot()\n",
    "chain.add_link_to_robot()\n",
    "chain.fk_chain(1)\n",
    "\n",
    "\n",
    "target_x = 1\n",
    "target_y = -0.4\n",
    "\n",
    "offser_from_base_x = target_x-0.18 #np.linalg.norm(np.array([0.8,0.2])-np.array([0.18,0]))\n",
    "offser_from_base_y = target_y-0.1135\n",
    "\n",
    "angle = math.atan2(offser_from_base_y, offser_from_base_x, )\n",
    "print(\"angle\",angle)\n",
    "start_x = 0.75#dist *math.cos(angle)\n",
    "start_y = 0#math.sin(angle) \n",
    "print(start_x, start_y)\n",
    "\n",
    "tcp_pos_start = [start_x, start_y, 0.86]\n",
    "wrist_pos_start = [start_x-0.26, start_y, 0.86]\n",
    "print(tcp_pos_start, wrist_pos_start)\n",
    "\n",
    "\n",
    "\n",
    "variable = make_ik_input(target_name = ['wrist_3_joint', 'gripper_tcp_joint'],\n",
    "                            target_pos  = [[0,0,0], tcp_pos_start],\n",
    "                            target_rot  = [[0, 3.14, angle-1.57],[0,0,0]],\n",
    "                            solve_pos   = [0, 1],\n",
    "                            solve_rot   = [1, 0],\n",
    "                            weight_pos  = 1,\n",
    "                            weight_rot  = 1,\n",
    "                            disabled_joi_id = [0],\n",
    "                            joi_ctrl_num=7) # Including base joint\n",
    "q_list = chain.get_q_from_ik(variable)\n",
    "contro_q_list_start = q_list[1:7] # Excluding base joint\n",
    "contro_q_list_start = contro_q_list_start.reshape(-1,1)\n",
    "\n",
    "contro_q_list_start[0] = angle\n",
    "contro_q_list_start[4] = 1.57\n",
    "\n",
    "print(chain.joint[6].name, chain.joint[6].p)\n",
    "print(chain.joint[8].name, chain.joint[8].p)\n",
    "print(chain.joint[9].name, chain.joint[9].p)\n",
    "print(chain.joint[10].name, chain.joint[10].p)\n",
    "\n",
    "tcp_pos = [target_x, target_y, 0.86]\n",
    "wrist_pos = [target_x-0.26, target_y, 0.86]\n",
    "\n",
    "\n",
    "\n",
    "variable = make_ik_input(target_name = ['wrist_3_joint', 'gripper_tcp_joint'],\n",
    "                            target_pos  = [[0,0,0], tcp_pos],\n",
    "                            target_rot  = [[0, 3.14, angle-1.57],[0,0,0]],\n",
    "                            solve_pos   = [0, 1],\n",
    "                            solve_rot   = [1, 0],\n",
    "                            weight_pos  = 1,\n",
    "                            weight_rot  = 1,\n",
    "                            disabled_joi_id = [0],\n",
    "                            joi_ctrl_num=7) # Including base joint\n",
    "q_list = chain.get_q_from_ik(variable)\n",
    "control_q_list = q_list[1:7] # Excluding base joint\n",
    "contro_q_list = control_q_list.reshape(1,-1)\n",
    "\n",
    "print(tcp_pos, wrist_pos)\n",
    "print(chain.joint[6].name, chain.joint[6].p)\n",
    "print(chain.joint[8].name, chain.joint[8].p)\n",
    "print(chain.joint[9].name, chain.joint[9].p)\n",
    "print(chain.joint[10].name, chain.joint[10].p)\n"
   ]
  },
  {
   "cell_type": "code",
   "execution_count": null,
   "metadata": {},
   "outputs": [],
   "source": [
    "\n",
    "cylinder_name = \"cylinder\"\n",
    "cylinder_pos  = PoseStamped()\n",
    "cylinder_pos.header.frame_id    = robot.get_planning_frame()\n",
    "cylinder_pos.pose.position.x    = target_x\n",
    "cylinder_pos.pose.position.y    = target_y\n",
    "cylinder_pos.pose.position.z    = cylinder_pos_z\n",
    "cylinder_pos.pose.orientation.w = 1.0  \n",
    "\n",
    "arm_joint_names = ['shoulder_pan_joint','shoulder_lift_joint','elbow_joint', \n",
    "                'wrist_1_joint', 'wrist_2_joint','wrist_3_joint']\n",
    "gripper_joint_names = ['gripper_finger1_joint']\n",
    "rate    = rospy.Rate(10)\n",
    "arm_pub = rospy.Publisher('/arm_controller/command', JointTrajectory, queue_size=10)\n",
    "gripper_pub = rospy.Publisher('/gripper_controller/command', JointTrajectory, queue_size=10)\n",
    "\n",
    "touch_links = [\"gripper_finger1_finger_link\", \"gripper_finger2_finger_link\"]\n"
   ]
  },
  {
   "cell_type": "code",
   "execution_count": null,
   "metadata": {},
   "outputs": [],
   "source": [
    "\n",
    "\n",
    "single_move(control_q_list)\n",
    "# Add a cylinder on RViz \n",
    "scene.add_cylinder(name=object_name, height=cylinder_height, radius=cylinder_radius, pose=cylinder_pos)\n",
    "# Add a cylinder on GAZEBO \n"
   ]
  },
  {
   "cell_type": "markdown",
   "metadata": {},
   "source": [
    "### Plan"
   ]
  },
  {
   "cell_type": "code",
   "execution_count": null,
   "metadata": {},
   "outputs": [],
   "source": [
    "init_joints = [0.9, -0.6596, 1.3364, 0.0350, 0, 0]\n",
    "single_move(init_joints)\n",
    "\n",
    "delete_gazebo_model([object_name])\n",
    "\n"
   ]
  },
  {
   "cell_type": "code",
   "execution_count": null,
   "metadata": {},
   "outputs": [],
   "source": [
    "spawn_gazebo_model(object_path, object_name, object_pose)\n"
   ]
  },
  {
   "cell_type": "markdown",
   "metadata": {},
   "source": []
  },
  {
   "cell_type": "code",
   "execution_count": null,
   "metadata": {},
   "outputs": [],
   "source": [
    "\n",
    "\n",
    "# single_move(contro_q_list_start)\n",
    "move_gripper(0.8)\n"
   ]
  },
  {
   "cell_type": "code",
   "execution_count": null,
   "metadata": {},
   "outputs": [],
   "source": [
    "# Move to start pose \n",
    "# direction_joints = [angle, -0.97181214,  2.32397468, -1.35171505,  1.13762996, -0.0087976 ]\n",
    "# direction_joints = [0,0,0,0,0,0]\n",
    "\n",
    "# control_q_list[0] = angle\n",
    "# control_q_list[4] = 1.57\n",
    "single_move(contro_q_list_start)\n",
    "\n"
   ]
  },
  {
   "cell_type": "code",
   "execution_count": null,
   "metadata": {},
   "outputs": [],
   "source": [
    "# total_q_list = np.linspace(contro_q_list_start, control_q_list, 20)\n",
    "# move_arm(total_q_list)"
   ]
  },
  {
   "cell_type": "code",
   "execution_count": 24,
   "metadata": {},
   "outputs": [],
   "source": [
    "def linaer_move(target_pos, desired_vel, offset_angle):\n",
    "    start_pos = [0.77, 0, 0.82] \n",
    "    \"\"\" Start Pose \"\"\"\n",
    "    variable_start = make_ik_input(target_name = ['wrist_3_joint', 'gripper_tcp_joint'],\n",
    "                                target_pos  = [[0,0,0], start_pos],\n",
    "                                target_rot  = [[0, 3.14, offset_angle-1.57],[0,0,0]],\n",
    "                                solve_pos   = [0, 1],\n",
    "                                solve_rot   = [1, 0],\n",
    "                                weight_pos  = 1,\n",
    "                                weight_rot  = 1,\n",
    "                                disabled_joi_id = [0],\n",
    "                                joi_ctrl_num=7) # Including base joint        \n",
    "    q_list_start = chain.get_q_from_ik(variable_start)\n",
    "    q_list_start = q_list_start[1:7] # Excluding base joint\n",
    "    ctrl_q_list_start = q_list_start.reshape(-1,)        \n",
    "    ctrl_q_list_start[0] = offset_angle\n",
    "    ctrl_q_list_start[4] = 1.57\n",
    "    \"\"\" Goal Pose \"\"\"\n",
    "    variable = make_ik_input(target_name = ['wrist_3_joint', 'gripper_tcp_joint'],\n",
    "                                target_pos  = [[0,0,0], target_pos],\n",
    "                                target_rot  = [[0, 3.14, offset_angle-1.57],[0,0,0]],\n",
    "                                solve_pos   = [0, 1],\n",
    "                                solve_rot   = [1, 0],\n",
    "                                weight_pos  = 1,\n",
    "                                weight_rot  = 1,\n",
    "                                disabled_joi_id = [0],\n",
    "                                joi_ctrl_num=7) # Including base joint\n",
    "    q_list_goal = chain.get_q_from_ik(variable)\n",
    "    q_list_goal = q_list_goal[1:7] # Excluding base joint\n",
    "    ctrl_q_list_goal = q_list_goal.reshape(-1,)        \n",
    "    desired_time = get_desired_time(start_pos, target_pos, desired_vel)\n",
    "    interpoled_q = np.linspace(start=ctrl_q_list_start, stop=ctrl_q_list_goal, num=int(10*desired_time))\n",
    "    return interpoled_q"
   ]
  },
  {
   "cell_type": "code",
   "execution_count": 25,
   "metadata": {},
   "outputs": [],
   "source": [
    "inter = linaer_move(tcp_pos, 0.2, angle)"
   ]
  },
  {
   "cell_type": "code",
   "execution_count": 26,
   "metadata": {},
   "outputs": [
    {
     "name": "stdout",
     "output_type": "stream",
     "text": [
      "(23, 6)\n",
      "[[-5.59475787e-01 -9.31358632e-01  2.19821974e+00 -1.26686111e+00\n",
      "   1.57000000e+00 -1.59254767e-03]\n",
      " [-5.62158397e-01 -9.18537168e-01  2.15924356e+00 -1.24070639e+00\n",
      "   1.56731739e+00 -1.59255214e-03]\n",
      " [-5.64841007e-01 -9.05715704e-01  2.12026738e+00 -1.21455168e+00\n",
      "   1.56463478e+00 -1.59255662e-03]\n",
      " [-5.67523617e-01 -8.92894239e-01  2.08129121e+00 -1.18839696e+00\n",
      "   1.56195217e+00 -1.59256109e-03]\n",
      " [-5.70206226e-01 -8.80072775e-01  2.04231503e+00 -1.16224225e+00\n",
      "   1.55926956e+00 -1.59256556e-03]\n",
      " [-5.72888836e-01 -8.67251311e-01  2.00333885e+00 -1.13608753e+00\n",
      "   1.55658695e+00 -1.59257004e-03]\n",
      " [-5.75571446e-01 -8.54429846e-01  1.96436267e+00 -1.10993282e+00\n",
      "   1.55390434e+00 -1.59257451e-03]\n",
      " [-5.78254056e-01 -8.41608382e-01  1.92538649e+00 -1.08377811e+00\n",
      "   1.55122173e+00 -1.59257898e-03]\n",
      " [-5.80936665e-01 -8.28786917e-01  1.88641031e+00 -1.05762339e+00\n",
      "   1.54853912e+00 -1.59258346e-03]\n",
      " [-5.83619275e-01 -8.15965453e-01  1.84743413e+00 -1.03146868e+00\n",
      "   1.54585651e+00 -1.59258793e-03]\n",
      " [-5.86301885e-01 -8.03143989e-01  1.80845795e+00 -1.00531396e+00\n",
      "   1.54317390e+00 -1.59259241e-03]\n",
      " [-5.88984495e-01 -7.90322524e-01  1.76948177e+00 -9.79159247e-01\n",
      "   1.54049129e+00 -1.59259688e-03]\n",
      " [-5.91667104e-01 -7.77501060e-01  1.73050559e+00 -9.53004533e-01\n",
      "   1.53780868e+00 -1.59260135e-03]\n",
      " [-5.94349714e-01 -7.64679596e-01  1.69152941e+00 -9.26849818e-01\n",
      "   1.53512607e+00 -1.59260583e-03]\n",
      " [-5.97032324e-01 -7.51858131e-01  1.65255323e+00 -9.00695103e-01\n",
      "   1.53244346e+00 -1.59261030e-03]\n",
      " [-5.99714934e-01 -7.39036667e-01  1.61357705e+00 -8.74540389e-01\n",
      "   1.52976085e+00 -1.59261477e-03]\n",
      " [-6.02397543e-01 -7.26215202e-01  1.57460087e+00 -8.48385674e-01\n",
      "   1.52707825e+00 -1.59261925e-03]\n",
      " [-6.05080153e-01 -7.13393738e-01  1.53562469e+00 -8.22230960e-01\n",
      "   1.52439564e+00 -1.59262372e-03]\n",
      " [-6.07762763e-01 -7.00572274e-01  1.49664851e+00 -7.96076245e-01\n",
      "   1.52171303e+00 -1.59262820e-03]\n",
      " [-6.10445373e-01 -6.87750809e-01  1.45767233e+00 -7.69921530e-01\n",
      "   1.51903042e+00 -1.59263267e-03]\n",
      " [-6.13127982e-01 -6.74929345e-01  1.41869615e+00 -7.43766816e-01\n",
      "   1.51634781e+00 -1.59263714e-03]\n",
      " [-6.15810592e-01 -6.62107880e-01  1.37971997e+00 -7.17612101e-01\n",
      "   1.51366520e+00 -1.59264162e-03]\n",
      " [-6.18493202e-01 -6.49286416e-01  1.34074379e+00 -6.91457386e-01\n",
      "   1.51098259e+00 -1.59264609e-03]]\n"
     ]
    }
   ],
   "source": [
    "print(inter.shape)\n",
    "print(inter)"
   ]
  },
  {
   "cell_type": "code",
   "execution_count": 27,
   "metadata": {},
   "outputs": [],
   "source": [
    "move_arm(inter)"
   ]
  },
  {
   "cell_type": "code",
   "execution_count": null,
   "metadata": {},
   "outputs": [],
   "source": []
  },
  {
   "cell_type": "code",
   "execution_count": null,
   "metadata": {},
   "outputs": [],
   "source": []
  },
  {
   "cell_type": "code",
   "execution_count": null,
   "metadata": {},
   "outputs": [],
   "source": []
  }
 ],
 "metadata": {
  "interpreter": {
   "hash": "e7370f93d1d0cde622a1f8e1c04877d8463912d04d973331ad4851f04de6915a"
  },
  "kernelspec": {
   "display_name": "Python 3.8.10 64-bit",
   "language": "python",
   "name": "python3"
  },
  "language_info": {
   "codemirror_mode": {
    "name": "ipython",
    "version": 3
   },
   "file_extension": ".py",
   "mimetype": "text/x-python",
   "name": "python",
   "nbconvert_exporter": "python",
   "pygments_lexer": "ipython3",
   "version": "3.8.10"
  },
  "orig_nbformat": 4
 },
 "nbformat": 4,
 "nbformat_minor": 2
}
